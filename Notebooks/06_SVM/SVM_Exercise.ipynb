{
  "nbformat": 4,
  "nbformat_minor": 0,
  "metadata": {
    "colab": {
      "name": "SVMWorksheetStudent",
      "provenance": [],
      "collapsed_sections": [],
      "include_colab_link": true
    },
    "kernelspec": {
      "display_name": "Python 3",
      "language": "python",
      "name": "python3"
    },
    "language_info": {
      "codemirror_mode": {
        "name": "ipython",
        "version": 3
      },
      "file_extension": ".py",
      "mimetype": "text/x-python",
      "name": "python",
      "nbconvert_exporter": "python",
      "pygments_lexer": "ipython3",
      "version": "3.7.3"
    }
  },
  "cells": [
    {
      "cell_type": "markdown",
      "metadata": {
        "id": "view-in-github",
        "colab_type": "text"
      },
      "source": [
        "<a href=\"https://colab.research.google.com/github/anaaparamesh/Week1_Public/blob/master/Notebooks/06_SVM/SVM_Exercise.ipynb\" target=\"_parent\"><img src=\"https://colab.research.google.com/assets/colab-badge.svg\" alt=\"Open In Colab\"/></a>"
      ]
    },
    {
      "cell_type": "markdown",
      "metadata": {
        "colab_type": "text",
        "id": "-UimMCmGe19F"
      },
      "source": [
        "# SVM Tree Worksheet"
      ]
    },
    {
      "cell_type": "markdown",
      "metadata": {
        "id": "kedW02LgKjVL",
        "colab_type": "text"
      },
      "source": [
        "import numpy as np\n",
        "import pandas as po\n",
        "from sklearn.model_selection import train_test_split\n",
        "import matplotlib.pyplot as plt\n",
        "from sklearn import svm\n",
        "from sklearn.metrics import accuracy_score\n",
        "from sklearn.svm import SVC\n",
        "from sklearn.ensemble import RandomForestClassifier"
      ]
    },
    {
      "cell_type": "markdown",
      "metadata": {
        "id": "mI5jjOy4IfDa",
        "colab_type": "text"
      },
      "source": [
        "## Loading data\n",
        "\n",
        "Load Pima diabetes dataset and split data, with test size being 25% and validation 20%."
      ]
    },
    {
      "cell_type": "code",
      "metadata": {
        "colab_type": "code",
        "id": "Ydh9gmDkMGmu",
        "colab": {}
      },
      "source": [
        "import numpy as np\n",
        "import pandas as po\n",
        "from sklearn.model_selection import train_test_split\n",
        "import matplotlib.pyplot as plt\n",
        "from sklearn import svm\n",
        "from sklearn.metrics import accuracy_score\n",
        "from sklearn.svm import SVC\n",
        "from sklearn.ensemble import RandomForestClassifier\n",
        "url = \"https://raw.githubusercontent.com/jbrownlee/Datasets/master/pima-indians-diabetes.data.csv\"\n",
        "names = ['preg', 'plas', 'pres', 'skin', 'test', 'mass', 'pedi', 'age', 'class']\n",
        "\n",
        "data = po.read_csv(url, names=names)\n",
        "\n",
        "# -- dropping NaN rows -- #\n",
        "invalid = ['plas', 'pres', 'skin', 'test', 'mass']\n",
        "\n",
        "for i in invalid:\n",
        "    data[i].replace(to_replace=0, value=np.nan, inplace=True)\n",
        "    \n",
        "data = data.dropna(axis=0).reset_index(drop=True)\n",
        "\n",
        "# columns we will use to make predictions with (features!) feel free to play around with these\n",
        "X_cols = ['preg', 'plas', 'pres', 'skin', 'test', 'mass', 'pedi', 'age']\n",
        "# column that we want to predict\n",
        "y_col = 'class'\n",
        "\n",
        "# split X and y into training and testing sets\n",
        "X_train, X_test, y_train, y_test = train_test_split(data[X_cols], data[y_col], test_size=0.25, random_state=0)\n",
        "\n",
        "# further split X and y of training into training and validation sets\n",
        "X_train, X_val, y_train, y_val = train_test_split(X_train, y_train, test_size=0.2, random_state=0)\n",
        "\n",
        "## YOUR CODE HERE"
      ],
      "execution_count": 2,
      "outputs": []
    },
    {
      "cell_type": "markdown",
      "metadata": {
        "id": "KDv6pia8IfDm",
        "colab_type": "text"
      },
      "source": [
        "## Creating Model"
      ]
    },
    {
      "cell_type": "markdown",
      "metadata": {
        "id": "Tv-T8Wy_IfDn",
        "colab_type": "text"
      },
      "source": [
        "Create a model with sklearn's SVC and a high gamma value"
      ]
    },
    {
      "cell_type": "code",
      "metadata": {
        "colab_type": "code",
        "id": "9rYQecrQ8yjn",
        "colab": {
          "base_uri": "https://localhost:8080/",
          "height": 87
        },
        "outputId": "7a19d6b0-2977-42dd-ce2f-0309cb4bafea"
      },
      "source": [
        "## YOUR CODE HERE\n",
        "# creating a model with sklearn's SVC\n",
        "svm = SVC(gamma=1, C=1)\n",
        "\n",
        "# training/fitting a model with training data\n",
        "svm.fit(X_train, y_train)"
      ],
      "execution_count": 3,
      "outputs": [
        {
          "output_type": "execute_result",
          "data": {
            "text/plain": [
              "SVC(C=1, break_ties=False, cache_size=200, class_weight=None, coef0=0.0,\n",
              "    decision_function_shape='ovr', degree=3, gamma=1, kernel='rbf', max_iter=-1,\n",
              "    probability=False, random_state=None, shrinking=True, tol=0.001,\n",
              "    verbose=False)"
            ]
          },
          "metadata": {
            "tags": []
          },
          "execution_count": 3
        }
      ]
    },
    {
      "cell_type": "markdown",
      "metadata": {
        "colab_type": "text",
        "id": "qdiqjUje4ll-"
      },
      "source": [
        "Print accuracy of training and validation data"
      ]
    },
    {
      "cell_type": "code",
      "metadata": {
        "colab_type": "code",
        "id": "O5LqepHk9S0M",
        "colab": {
          "base_uri": "https://localhost:8080/",
          "height": 52
        },
        "outputId": "360e29d7-96bf-42d4-e836-6ec8c100d48f"
      },
      "source": [
        "## YOUR CODE HERE\n",
        "y_train_pred=svm.predict(X_train)\n",
        "print(\"Training Accuracy is \", accuracy_score(y_train, y_train_pred)*100)\n",
        "y_val_pred=svm.predict(X_val)\n",
        "print(\"Validation Accuracy is \", accuracy_score(y_val,y_val_pred)*100)"
      ],
      "execution_count": 4,
      "outputs": [
        {
          "output_type": "stream",
          "text": [
            "Training Accuracy is  100.0\n",
            "Validation Accuracy is  67.79661016949152\n"
          ],
          "name": "stdout"
        }
      ]
    },
    {
      "cell_type": "markdown",
      "metadata": {
        "colab_type": "text",
        "id": "fC7VlLtI3ZjQ"
      },
      "source": [
        "Create a model with sklearn's SVC and a low gamma value"
      ]
    },
    {
      "cell_type": "code",
      "metadata": {
        "colab_type": "code",
        "id": "3vVHnWuY9pFN",
        "colab": {
          "base_uri": "https://localhost:8080/",
          "height": 87
        },
        "outputId": "3b0f9a79-22fd-49d1-d8e8-8cb983939199"
      },
      "source": [
        "## YOUR CODE HERE\n",
        "# creating a model with sklearn's SVC\n",
        "svm = SVC(gamma=0.001, C=1)\n",
        "\n",
        "# training/fitting a model with training data\n",
        "svm.fit(X_train, y_train)"
      ],
      "execution_count": 8,
      "outputs": [
        {
          "output_type": "execute_result",
          "data": {
            "text/plain": [
              "SVC(C=1, break_ties=False, cache_size=200, class_weight=None, coef0=0.0,\n",
              "    decision_function_shape='ovr', degree=3, gamma=0.001, kernel='rbf',\n",
              "    max_iter=-1, probability=False, random_state=None, shrinking=True,\n",
              "    tol=0.001, verbose=False)"
            ]
          },
          "metadata": {
            "tags": []
          },
          "execution_count": 8
        }
      ]
    },
    {
      "cell_type": "markdown",
      "metadata": {
        "colab_type": "text",
        "id": "JQB-U50H4mIx"
      },
      "source": [
        "Print accuracy of training and validation data"
      ]
    },
    {
      "cell_type": "code",
      "metadata": {
        "colab_type": "code",
        "id": "tr4DGB309s9a",
        "colab": {
          "base_uri": "https://localhost:8080/",
          "height": 52
        },
        "outputId": "f986e5fc-53d5-4d52-db3e-98c4f3f38f50"
      },
      "source": [
        "## YOUR CODE HERE\n",
        "y_train_pred=svm.predict(X_train)\n",
        "print(\"Training Accuracy is \", accuracy_score(y_train, y_train_pred)*100)\n",
        "y_val_pred=svm.predict(X_val)\n",
        "print(\"Validation Accuracy is \", accuracy_score(y_val,y_val_pred)*100)"
      ],
      "execution_count": 9,
      "outputs": [
        {
          "output_type": "stream",
          "text": [
            "Training Accuracy is  86.38297872340426\n",
            "Validation Accuracy is  76.27118644067797\n"
          ],
          "name": "stdout"
        }
      ]
    },
    {
      "cell_type": "markdown",
      "metadata": {
        "colab_type": "text",
        "id": "TA9xLHAEIKXY"
      },
      "source": [
        "Explain the accuracy results below. \n",
        "\n",
        "(YOUR ANSWER HERE)"
      ]
    },
    {
      "cell_type": "markdown",
      "metadata": {
        "id": "yrf9TWk-IfEN",
        "colab_type": "text"
      },
      "source": [
        "## Metrics\n",
        "\n",
        "Print the confusion matrices (both numeric and visualized)"
      ]
    },
    {
      "cell_type": "code",
      "metadata": {
        "id": "s4e5hx3zIfER",
        "colab_type": "code",
        "colab": {
          "base_uri": "https://localhost:8080/",
          "height": 791
        },
        "outputId": "a41d12f1-daa0-48ba-b603-2589b95fc481"
      },
      "source": [
        "## Confusion matrices\n",
        "\n",
        "## YOUR CODE HERE\n",
        "# Use sklearn to make the confusion matrix\n",
        "from sklearn import metrics\n",
        "print('Confusion Matrix:')\n",
        "labels = [0,1]\n",
        "cm = metrics.confusion_matrix(y_val, y_val_pred, labels)\n",
        "print(cm)\n",
        "\n",
        "print('\\nNormalized Confusion Matrix:')\n",
        "cm_norm = cm.astype('float') / cm.sum(axis=1)[:, np.newaxis]\n",
        "print(cm_norm)\n",
        "\n",
        "po.crosstab(y_val, y_val_pred, rownames=['True'], colnames=['Predicted'], margins=True)\n",
        "\n",
        "def plot_cmatrix(cm,labels,title='Confusion Matrix'):\n",
        "  fig = plt.figure()\n",
        "  ax = fig.add_subplot(111)\n",
        "  cax = ax.matshow(cm,cmap='Reds')\n",
        "  plt.title('\\n'+title+'\\n', fontsize=20)\n",
        "  fig.colorbar(cax)\n",
        "  ax.set_xticklabels([''] + labels, fontsize=16)\n",
        "  ax.set_yticklabels([''] + labels, fontsize=16)\n",
        "  plt.xlabel('Predicted', fontsize=16)\n",
        "  plt.ylabel('True', fontsize=16)\n",
        "  plt.show()\n",
        "  \n",
        "plot_cmatrix(cm,labels)\n",
        "plot_cmatrix(cm_norm,labels,title='Normalized Confusion Matrix')"
      ],
      "execution_count": 10,
      "outputs": [
        {
          "output_type": "stream",
          "text": [
            "Confusion Matrix:\n",
            "[[39  1]\n",
            " [13  6]]\n",
            "\n",
            "Normalized Confusion Matrix:\n",
            "[[0.975      0.025     ]\n",
            " [0.68421053 0.31578947]]\n"
          ],
          "name": "stdout"
        },
        {
          "output_type": "display_data",
          "data": {
            "image/png": "[encoded data removed]",
            "text/plain": [
              "<Figure size 432x288 with 2 Axes>"
            ]
          },
          "metadata": {
            "tags": [],
            "needs_background": "light"
          }
        },
        {
          "output_type": "display_data",
          "data": {
            "image/png": "[encoded data removed]",
            "text/plain": [
              "<Figure size 432x288 with 2 Axes>"
            ]
          },
          "metadata": {
            "tags": [],
            "needs_background": "light"
          }
        }
      ]
    },
    {
      "cell_type": "code",
      "metadata": {
        "id": "UlwiwVefNGku",
        "colab_type": "code",
        "colab": {}
      },
      "source": [
        ""
      ],
      "execution_count": 7,
      "outputs": []
    },
    {
      "cell_type": "markdown",
      "metadata": {
        "id": "QK_i3extgzQ9",
        "colab_type": "text"
      },
      "source": [
        "Notes:\n",
        "C is the barrier creator. low c is linear, high C overfits and creates a weird boundary.\n",
        "\n",
        "Gamma: defines how close a training data point needs to be to impact the decision boundary.\n",
        "\n",
        "Kernel: is opptional, used if can't be properly fit with C"
      ]
    },
    {
      "cell_type": "code",
      "metadata": {
        "id": "2VAdyGu9hYaZ",
        "colab_type": "code",
        "colab": {}
      },
      "source": [
        ""
      ],
      "execution_count": null,
      "outputs": []
    }
  ]
}