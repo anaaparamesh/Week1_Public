{
  "nbformat": 4,
  "nbformat_minor": 0,
  "metadata": {
    "colab": {
      "name": "UpdatedMatplotlibProblemSetSolutions.ipynb",
      "provenance": [],
      "collapsed_sections": [],
      "include_colab_link": true
    },
    "kernelspec": {
      "display_name": "Python 3",
      "language": "python",
      "name": "python3"
    },
    "language_info": {
      "codemirror_mode": {
        "name": "ipython",
        "version": 3
      },
      "file_extension": ".py",
      "mimetype": "text/x-python",
      "name": "python",
      "nbconvert_exporter": "python",
      "pygments_lexer": "ipython3",
      "version": "3.7.3"
    }
  },
  "cells": [
    {
      "cell_type": "markdown",
      "metadata": {
        "id": "view-in-github",
        "colab_type": "text"
      },
      "source": [
        "<a href=\"https://colab.research.google.com/github/anaaparamesh/Week1_Public/blob/master/Notebooks/02_Pandas_and_Matplotlib/Matplotlib_Exercise.ipynb\" target=\"_parent\"><img src=\"https://colab.research.google.com/assets/colab-badge.svg\" alt=\"Open In Colab\"/></a>"
      ]
    },
    {
      "cell_type": "markdown",
      "metadata": {
        "colab_type": "text",
        "id": "62aBklHO062y"
      },
      "source": [
        "# Matplotlib Problem Set"
      ]
    },
    {
      "cell_type": "code",
      "metadata": {
        "colab_type": "code",
        "id": "5BPzhruU08-J",
        "colab": {}
      },
      "source": [
        "import matplotlib.pyplot as plt\n",
        "import numpy as np\n",
        "import seaborn as sns\n",
        "import pandas as pd"
      ],
      "execution_count": 2,
      "outputs": []
    },
    {
      "cell_type": "markdown",
      "metadata": {
        "colab_type": "text",
        "id": "5RSW40kR1Vzz"
      },
      "source": [
        "#### Below is the temperature in degrees Celsius for this day (July 10) in Boston from 1961 to 2010. Plot the temperature on the Y-Axis"
      ]
    },
    {
      "cell_type": "code",
      "metadata": {
        "colab_type": "code",
        "id": "4rqalSZf1Yjq",
        "colab": {}
      },
      "source": [
        "temp_boston = [17.8, 22.8, 17.5, 16.4, 23.35, 25.3, 27.25, 24.45, 22.5, 23.6, 26.7, 22.75, 21.95, 26.4,\n",
        "23.05, 22.5, 21.1, 26.1, 23.9, 20.25, 27.8, 23.9, 21.7, 19.7, 25.0, 21.4, 21.1, 27.8, 22.25, 27.25, \n",
        "23.35, 25.0, 30.0, 25.8, 23.6, 22.5,19.15, 22.8, 23.6, 25.0, 20.8, 21.4, 18.6, 23.05, 25.0, 25.0,\n",
        "18.35, 25.3, 18.6]"
      ],
      "execution_count": 3,
      "outputs": []
    },
    {
      "cell_type": "code",
      "metadata": {
        "colab_type": "code",
        "id": "7FwkcZzK1b-s",
        "colab": {
          "base_uri": "https://localhost:8080/",
          "height": 295
        },
        "outputId": "2a053720-b505-4831-8ac4-87a02525a39b"
      },
      "source": [
        "## YOUR CODE HERE\n",
        "\n",
        "fig, ax = plt.subplots()\n",
        "# Pass multiple numpy arrays as arguments to plt.plot\n",
        "x = np.arange(1961, 2010)\n",
        "y = np.array(temp_boston) \n",
        "ax.plot(x, y, 'bo') \n",
        "plt.title(\"Temperatures in Celsisus in Boston From 1961-2010 on July 10\")\n",
        "plt.xlabel(\"years\")\n",
        "plt.ylabel('Temperatures in Celsius')\n",
        "plt.show()"
      ],
      "execution_count": 8,
      "outputs": [
        {
          "output_type": "display_data",
          "data": {
            "image/png": "[encoded data removed]",
            "text/plain": [
              "<Figure size 432x288 with 1 Axes>"
            ]
          },
          "metadata": {
            "tags": [],
            "needs_background": "light"
          }
        }
      ]
    },
    {
      "cell_type": "markdown",
      "metadata": {
        "colab_type": "text",
        "id": "IqPLuWxZ10ZB"
      },
      "source": [
        "#### Below is the temperature in degrees Celsius for this day (July 10) in New York from 1961 to 2010. Plot the temperatures of New York and Boston on the same graph in different colors"
      ]
    },
    {
      "cell_type": "code",
      "metadata": {
        "colab_type": "code",
        "id": "LDu1bMEy1gM6",
        "colab": {}
      },
      "source": [
        "temp_new_york =[23.35, 25.25, 20.25, 22.25, 25.85, 25.85, 25.55, 24.2, 22.5, 23.9, 28.3, 22.8, 26.7,\n",
        "29.7, 23.6, 22.8, 23.05, 26.7, 20.3, 23.65, 28.05, 25.0, 21.4, 21.35, 26.1, 25.25, 28.35, 25.85, 27.5,\n",
        "26.4, 21.7, 27.2, 32.25, 28.3, 22.5, 23.05, 22.8, 25.0, 24.7, 27.5, 25.85, 24.45, 20.0, 24.15, 26.95,\n",
        "22.5, 25.85, 27.25, 19.4]"
      ],
      "execution_count": 10,
      "outputs": []
    },
    {
      "cell_type": "code",
      "metadata": {
        "colab_type": "code",
        "id": "PF0sY5F013tJ",
        "colab": {
          "base_uri": "https://localhost:8080/",
          "height": 295
        },
        "outputId": "e6c50014-b153-4d6b-9d39-2a33e3bbb2da"
      },
      "source": [
        "## YOUR CODE HERE\n",
        "fig, ax = plt.subplots()\n",
        "# Pass multiple numpy arrays as arguments to plt.plot\n",
        "x = np.arange(1961, 2010)\n",
        "y_boston = np.array(temp_boston) \n",
        "y_new_york = np.array(temp_new_york)\n",
        "ax.plot(x, y_boston , 'bo', label='Boston')\n",
        "ax.plot(x, y_new_york , 'ro', label='New York')\n",
        "plt.title(\"Temperatures in Celsisus in Boston Vs. New York From 1961-2010 on July 10\")\n",
        "plt.xlabel(\"years\")\n",
        "plt.ylabel('Temperatures in Celsius')\n",
        "ax.legend(loc=\"upper right\")\n",
        "plt.show()\n"
      ],
      "execution_count": 12,
      "outputs": [
        {
          "output_type": "display_data",
          "data": {
            "image/png": "[encoded data removed]",
            "text/plain": [
              "<Figure size 432x288 with 1 Axes>"
            ]
          },
          "metadata": {
            "tags": [],
            "needs_background": "light"
          }
        }
      ]
    },
    {
      "cell_type": "markdown",
      "metadata": {
        "colab_type": "text",
        "id": "sNTQP1WC17TT"
      },
      "source": [
        "#### Plot the temperatures of New York and Boston on different graphs in the same figure¶"
      ]
    },
    {
      "cell_type": "code",
      "metadata": {
        "colab_type": "code",
        "id": "vMLUmGgX18ZM",
        "colab": {}
      },
      "source": [
        "## YOUR CODE HERE"
      ],
      "execution_count": null,
      "outputs": []
    },
    {
      "cell_type": "markdown",
      "metadata": {
        "colab_type": "text",
        "id": "GcAKU8n-lLFc"
      },
      "source": [
        "### Univariate Analysis:"
      ]
    },
    {
      "cell_type": "code",
      "metadata": {
        "colab_type": "code",
        "id": "KBp3-kGns6LM",
        "colab": {}
      },
      "source": [
        "\"\"\"Let's revisit the Dataset_1 again. Read the csv file https://raw.githubusercontent.com/bwsimedlytics/Week1Public/master/BWSI_Dataset1.csv into a dataframe\n",
        "and print the first 7 rows\"\"\"\n",
        "\n",
        "## YOUR CODE HERE"
      ],
      "execution_count": null,
      "outputs": []
    },
    {
      "cell_type": "code",
      "metadata": {
        "colab_type": "code",
        "id": "ub7tLlnjtxCA",
        "colab": {}
      },
      "source": [
        "\"\"\"Conduct a Univariate Analysis of the participants' Cholesterol. What is noticeable about it? Create a function\n",
        "that makes the participants' Cholesterol more Normal and create two visualizations, \n",
        "one before the Chol data is modified, and one after Chol data is nmodified to be more Normal than before.\"\"\"\n",
        "\n",
        "## YOUR CODE HERE\n",
        "\n",
        "def more_Normal(dataframe, column): \n",
        "  ## YOUR CODE HERE\n",
        "  return y\n",
        "\n",
        "axs3.boxplot(more_Normal(data,\"Chol\"))\n",
        "plt.hist(more_Normal(data,\"Chol\")) #better representation of data, more Normal than before, now not as strongly skewed\n",
        "\n",
        "#Hint: which data visualization shows the outliers?"
      ],
      "execution_count": null,
      "outputs": []
    },
    {
      "cell_type": "code",
      "metadata": {
        "colab_type": "code",
        "id": "w5tGZu0zP4jE",
        "colab": {}
      },
      "source": [
        "\"\"\"Conduct a Bivariate Analysis for Protein and Chol. What is familar about this compared to the tutorial? What is another \n",
        "way to deal with overplotting other than the Hex plot? Create two data visualizations, one that shows the overplotting, the other that \n",
        "resolves this issue. After you are done, play around with the sns.kdeplot function or try to create a 3D graph to reduce the effects of overplotting.\"\"\"\n",
        "\n",
        "## YOUR CODE HERE"
      ],
      "execution_count": null,
      "outputs": []
    },
    {
      "cell_type": "code",
      "metadata": {
        "colab_type": "code",
        "id": "gPjN4_wVSBwr",
        "colab": {}
      },
      "source": [
        "sns.kdeplot(data[\"Protein\"], data[\"Chol\"], cmap=\"Reds\", shade=True, clip=(2000, 250))"
      ],
      "execution_count": null,
      "outputs": []
    }
  ]
}