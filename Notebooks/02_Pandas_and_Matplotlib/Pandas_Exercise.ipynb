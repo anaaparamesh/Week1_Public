{
  "nbformat": 4,
  "nbformat_minor": 0,
  "metadata": {
    "colab": {
      "name": "FullyUpdatedPandasProblemSets.ipynb",
      "provenance": [],
      "collapsed_sections": [],
      "include_colab_link": true
    },
    "kernelspec": {
      "display_name": "Python 3",
      "language": "python",
      "name": "python3"
    },
    "language_info": {
      "codemirror_mode": {
        "name": "ipython",
        "version": 3
      },
      "file_extension": ".py",
      "mimetype": "text/x-python",
      "name": "python",
      "nbconvert_exporter": "python",
      "pygments_lexer": "ipython3",
      "version": "3.7.3"
    }
  },
  "cells": [
    {
      "cell_type": "markdown",
      "metadata": {
        "id": "view-in-github",
        "colab_type": "text"
      },
      "source": [
        "<a href=\"https://colab.research.google.com/github/anaaparamesh/Week1_Public/blob/master/Notebooks/02_Pandas_and_Matplotlib/Pandas_Exercise.ipynb\" target=\"_parent\"><img src=\"https://colab.research.google.com/assets/colab-badge.svg\" alt=\"Open In Colab\"/></a>"
      ]
    },
    {
      "cell_type": "markdown",
      "metadata": {
        "colab_type": "text",
        "id": "bSU6eKZTdMXZ"
      },
      "source": [
        "# Pandas Problem Set"
      ]
    },
    {
      "cell_type": "code",
      "metadata": {
        "colab_type": "code",
        "id": "c5ewTg7vdQFm",
        "colab": {}
      },
      "source": [
        "import pandas as pd\n",
        "import numpy as np\n",
        "import matplotlib.pyplot as plt\n",
        "import statistics"
      ],
      "execution_count": 3,
      "outputs": []
    },
    {
      "cell_type": "code",
      "metadata": {
        "colab_type": "code",
        "id": "F4btIg8vdSyb",
        "colab": {}
      },
      "source": [
        "url = \"https://raw.githubusercontent.com/BeaverWorksMedlytics2020/Data_Public/master/NotebookExampleData/Week1/diabetes.csv\"\n",
        "names = ['preg', 'plas', 'pres', 'skin', 'test', 'mass', 'pedi', 'age', 'class']"
      ],
      "execution_count": 4,
      "outputs": []
    },
    {
      "cell_type": "markdown",
      "metadata": {
        "colab_type": "text",
        "id": "QOLgFaSKeShR"
      },
      "source": [
        "Read in csv above to a pandas dataframe"
      ]
    },
    {
      "cell_type": "code",
      "metadata": {
        "colab_type": "code",
        "id": "Okcb8dnXeX2C",
        "colab": {
          "base_uri": "https://localhost:8080/",
          "height": 202
        },
        "outputId": "41e1eb6c-006f-48d5-fdd4-bdfd3a3cb243"
      },
      "source": [
        "# your code here\n",
        "data = pd.read_csv(url, names=names)\n",
        "data.head()"
      ],
      "execution_count": 6,
      "outputs": [
        {
          "output_type": "execute_result",
          "data": {
            "text/html": [
              "<div>\n",
              "<style scoped>\n",
              "    .dataframe tbody tr th:only-of-type {\n",
              "        vertical-align: middle;\n",
              "    }\n",
              "\n",
              "    .dataframe tbody tr th {\n",
              "        vertical-align: top;\n",
              "    }\n",
              "\n",
              "    .dataframe thead th {\n",
              "        text-align: right;\n",
              "    }\n",
              "</style>\n",
              "<table border=\"1\" class=\"dataframe\">\n",
              "  <thead>\n",
              "    <tr style=\"text-align: right;\">\n",
              "      <th></th>\n",
              "      <th>preg</th>\n",
              "      <th>plas</th>\n",
              "      <th>pres</th>\n",
              "      <th>skin</th>\n",
              "      <th>test</th>\n",
              "      <th>mass</th>\n",
              "      <th>pedi</th>\n",
              "      <th>age</th>\n",
              "      <th>class</th>\n",
              "    </tr>\n",
              "  </thead>\n",
              "  <tbody>\n",
              "    <tr>\n",
              "      <th>0</th>\n",
              "      <td>6</td>\n",
              "      <td>148</td>\n",
              "      <td>72</td>\n",
              "      <td>35</td>\n",
              "      <td>0</td>\n",
              "      <td>33.6</td>\n",
              "      <td>0.627</td>\n",
              "      <td>50</td>\n",
              "      <td>1</td>\n",
              "    </tr>\n",
              "    <tr>\n",
              "      <th>1</th>\n",
              "      <td>1</td>\n",
              "      <td>85</td>\n",
              "      <td>66</td>\n",
              "      <td>29</td>\n",
              "      <td>0</td>\n",
              "      <td>26.6</td>\n",
              "      <td>0.351</td>\n",
              "      <td>31</td>\n",
              "      <td>0</td>\n",
              "    </tr>\n",
              "    <tr>\n",
              "      <th>2</th>\n",
              "      <td>8</td>\n",
              "      <td>183</td>\n",
              "      <td>64</td>\n",
              "      <td>0</td>\n",
              "      <td>0</td>\n",
              "      <td>23.3</td>\n",
              "      <td>0.672</td>\n",
              "      <td>32</td>\n",
              "      <td>1</td>\n",
              "    </tr>\n",
              "    <tr>\n",
              "      <th>3</th>\n",
              "      <td>1</td>\n",
              "      <td>89</td>\n",
              "      <td>66</td>\n",
              "      <td>23</td>\n",
              "      <td>94</td>\n",
              "      <td>28.1</td>\n",
              "      <td>0.167</td>\n",
              "      <td>21</td>\n",
              "      <td>0</td>\n",
              "    </tr>\n",
              "    <tr>\n",
              "      <th>4</th>\n",
              "      <td>0</td>\n",
              "      <td>137</td>\n",
              "      <td>40</td>\n",
              "      <td>35</td>\n",
              "      <td>168</td>\n",
              "      <td>43.1</td>\n",
              "      <td>2.288</td>\n",
              "      <td>33</td>\n",
              "      <td>1</td>\n",
              "    </tr>\n",
              "  </tbody>\n",
              "</table>\n",
              "</div>"
            ],
            "text/plain": [
              "   preg  plas  pres  skin  test  mass   pedi  age  class\n",
              "0     6   148    72    35     0  33.6  0.627   50      1\n",
              "1     1    85    66    29     0  26.6  0.351   31      0\n",
              "2     8   183    64     0     0  23.3  0.672   32      1\n",
              "3     1    89    66    23    94  28.1  0.167   21      0\n",
              "4     0   137    40    35   168  43.1  2.288   33      1"
            ]
          },
          "metadata": {
            "tags": []
          },
          "execution_count": 6
        }
      ]
    },
    {
      "cell_type": "markdown",
      "metadata": {
        "colab_type": "text",
        "id": "d4DyOsuoewE2"
      },
      "source": [
        "Print out the age and class of the 100th patient"
      ]
    },
    {
      "cell_type": "code",
      "metadata": {
        "colab_type": "code",
        "id": "xZqBsg39eY8_",
        "colab": {
          "base_uri": "https://localhost:8080/",
          "height": 52
        },
        "outputId": "d950caeb-e509-4b6e-8bdc-650dbaef91dc"
      },
      "source": [
        "# your code here\n",
        "#Also data.loc[100, [\"age\", \"class\"]]  row: 100th(iloc including) column: age and class columns\n",
        "print(data.iloc[99:100, 7:] )"
      ],
      "execution_count": 7,
      "outputs": [
        {
          "output_type": "stream",
          "text": [
            "    age  class\n",
            "99   31      1\n"
          ],
          "name": "stdout"
        }
      ]
    },
    {
      "cell_type": "markdown",
      "metadata": {
        "colab_type": "text",
        "id": "j8L2EM-5iOWc"
      },
      "source": [
        "Write code to figure out how many people are classified as not having diabetes, class is 0"
      ]
    },
    {
      "cell_type": "code",
      "metadata": {
        "colab_type": "code",
        "id": "vohzS51WiWvD",
        "colab": {
          "base_uri": "https://localhost:8080/",
          "height": 35
        },
        "outputId": "26c5307e-49b7-4bf3-b043-3c6cdb7f39d5"
      },
      "source": [
        "# your code here\n",
        "#These are invalid features that can have 0, makes no sense.\n",
        "invalid = ['plas', 'pres', 'skin', 'test', 'mass']\n",
        "\n",
        "#replace all the invalid zeros into Nan(not a number) and keep them in place.\n",
        "for i in invalid:\n",
        "    data[i].replace(to_replace=0, value=np.nan, inplace=True)\n",
        "\n",
        "#dropping rows with nan(what dropna does) and resetting the index.\n",
        "data_row = data.dropna(axis=0).reset_index(drop=True)\n",
        "\n",
        "#data set says true if they don't have diabetes\n",
        "no_diabetes_boolean = data_row['class'] != 1\n",
        "\n",
        "#has ppl that have no diabetes\n",
        "have_no_diabetes = data_row[no_diabetes_boolean]\n",
        "\n",
        "#number of ppl without diabetes.\n",
        "have_no_diabetes.shape[0]\n",
        "\n",
        "#Also done this way\n",
        "Negative = len(data[(data[\"class\"] == 1)])\n",
        "print(Negative)"
      ],
      "execution_count": 8,
      "outputs": [
        {
          "output_type": "stream",
          "text": [
            "268\n"
          ],
          "name": "stdout"
        }
      ]
    },
    {
      "cell_type": "markdown",
      "metadata": {
        "colab_type": "text",
        "id": "ieGRz4iiiX4E"
      },
      "source": [
        "Write code to figure out how many people are classified as having diabetes, class is 1"
      ]
    },
    {
      "cell_type": "code",
      "metadata": {
        "colab_type": "code",
        "id": "-jq2O-vriXRT",
        "colab": {
          "base_uri": "https://localhost:8080/",
          "height": 35
        },
        "outputId": "0db6005a-4ff6-4f21-e4d5-0e80444a3732"
      },
      "source": [
        "# your code here\n",
        "#boolean if they have diabetes\n",
        "have_diabetes_boolean = data_row['class'] == 1\n",
        "\n",
        "#data set of people that have diabetes\n",
        "have_diabetes = data_row[have_diabetes_boolean]\n",
        "\n",
        "#number of people that have diabetes\n",
        "have_diabetes.shape[0]\n",
        "\n",
        "#Another way of finding how many diabetes patients\n",
        "Positive = len(data[(data[\"class\"] == 0)])\n",
        "print(Positive)"
      ],
      "execution_count": null,
      "outputs": [
        {
          "output_type": "execute_result",
          "data": {
            "text/plain": [
              "130"
            ]
          },
          "metadata": {
            "tags": []
          },
          "execution_count": 18
        }
      ]
    },
    {
      "cell_type": "markdown",
      "metadata": {
        "colab_type": "text",
        "id": "oeFT7T9OnuSd"
      },
      "source": [
        "What percent of people have diabetes in the study"
      ]
    },
    {
      "cell_type": "code",
      "metadata": {
        "colab_type": "code",
        "id": "zGGHptFYnwq0",
        "colab": {
          "base_uri": "https://localhost:8080/",
          "height": 35
        },
        "outputId": "76cf6612-3cf7-4464-f292-34c44bb89da2"
      },
      "source": [
        "# your code here\n",
        "#the people that have diabetes over the people that don't have diabetes.\n",
        "(have_diabetes.shape[0] / data_row.shape[0]) * 100\n",
        "\n",
        "#Another way of finding the precentage of people that have diabetes in the study\n",
        "# your code here\n",
        "per = Positive/len(data[\"class\"])\n",
        "print(str(per*100) + \"%\")"
      ],
      "execution_count": null,
      "outputs": [
        {
          "output_type": "execute_result",
          "data": {
            "text/plain": [
              "33.16326530612245"
            ]
          },
          "metadata": {
            "tags": []
          },
          "execution_count": 20
        }
      ]
    },
    {
      "cell_type": "markdown",
      "metadata": {
        "colab_type": "text",
        "id": "nbrjnRPafs0p"
      },
      "source": [
        "Print out the pressure and class (no other columns) for the first 5 people (hint: this was not shown in our tutorial google how to select multiple columns with loc)\n",
        "\n",
        "Being able to effectively google is a very important coding tool ¯\\\\\\_(ツ)_/¯"
      ]
    },
    {
      "cell_type": "code",
      "metadata": {
        "colab_type": "code",
        "id": "GiNCJ19KfHJQ",
        "colab": {
          "base_uri": "https://localhost:8080/",
          "height": 121
        },
        "outputId": "f22f67cc-c863-4f73-9801-b316b95a1b74"
      },
      "source": [
        "# your code here\n",
        "#step of 6 for columns\n",
        "print(data.loc[0:4, 'pres': 'class': 6] )\n",
        "\n",
        "#simpler way of getting first five patients' 'pres' and 'class' "
      ],
      "execution_count": 9,
      "outputs": [
        {
          "output_type": "stream",
          "text": [
            "   pres  class\n",
            "0  72.0      1\n",
            "1  66.0      0\n",
            "2  64.0      1\n",
            "3  66.0      0\n",
            "4  40.0      1\n"
          ],
          "name": "stdout"
        }
      ]
    },
    {
      "cell_type": "markdown",
      "metadata": {
        "colab_type": "text",
        "id": "O-CcsoqlhxUn"
      },
      "source": [
        "Run the cell below, it will print out the correlation among the columns"
      ]
    },
    {
      "cell_type": "code",
      "metadata": {
        "colab_type": "code",
        "id": "pXpVFt6MffQt",
        "colab": {
          "base_uri": "https://localhost:8080/",
          "height": 325
        },
        "outputId": "a9b1cd24-f07e-4dc5-da42-830ab2048156"
      },
      "source": [
        "data.corr()"
      ],
      "execution_count": null,
      "outputs": [
        {
          "output_type": "execute_result",
          "data": {
            "text/html": [
              "<div>\n",
              "<style scoped>\n",
              "    .dataframe tbody tr th:only-of-type {\n",
              "        vertical-align: middle;\n",
              "    }\n",
              "\n",
              "    .dataframe tbody tr th {\n",
              "        vertical-align: top;\n",
              "    }\n",
              "\n",
              "    .dataframe thead th {\n",
              "        text-align: right;\n",
              "    }\n",
              "</style>\n",
              "<table border=\"1\" class=\"dataframe\">\n",
              "  <thead>\n",
              "    <tr style=\"text-align: right;\">\n",
              "      <th></th>\n",
              "      <th>preg</th>\n",
              "      <th>plas</th>\n",
              "      <th>pres</th>\n",
              "      <th>skin</th>\n",
              "      <th>test</th>\n",
              "      <th>mass</th>\n",
              "      <th>pedi</th>\n",
              "      <th>age</th>\n",
              "      <th>class</th>\n",
              "    </tr>\n",
              "  </thead>\n",
              "  <tbody>\n",
              "    <tr>\n",
              "      <th>preg</th>\n",
              "      <td>1.000000</td>\n",
              "      <td>0.128135</td>\n",
              "      <td>0.214178</td>\n",
              "      <td>0.100239</td>\n",
              "      <td>0.082171</td>\n",
              "      <td>0.021719</td>\n",
              "      <td>-0.033523</td>\n",
              "      <td>0.544341</td>\n",
              "      <td>0.221898</td>\n",
              "    </tr>\n",
              "    <tr>\n",
              "      <th>plas</th>\n",
              "      <td>0.128135</td>\n",
              "      <td>1.000000</td>\n",
              "      <td>0.223192</td>\n",
              "      <td>0.228043</td>\n",
              "      <td>0.581186</td>\n",
              "      <td>0.232771</td>\n",
              "      <td>0.137246</td>\n",
              "      <td>0.267136</td>\n",
              "      <td>0.494650</td>\n",
              "    </tr>\n",
              "    <tr>\n",
              "      <th>pres</th>\n",
              "      <td>0.214178</td>\n",
              "      <td>0.223192</td>\n",
              "      <td>1.000000</td>\n",
              "      <td>0.226839</td>\n",
              "      <td>0.098272</td>\n",
              "      <td>0.289230</td>\n",
              "      <td>-0.002805</td>\n",
              "      <td>0.330107</td>\n",
              "      <td>0.170589</td>\n",
              "    </tr>\n",
              "    <tr>\n",
              "      <th>skin</th>\n",
              "      <td>0.100239</td>\n",
              "      <td>0.228043</td>\n",
              "      <td>0.226839</td>\n",
              "      <td>1.000000</td>\n",
              "      <td>0.184888</td>\n",
              "      <td>0.648214</td>\n",
              "      <td>0.115016</td>\n",
              "      <td>0.166816</td>\n",
              "      <td>0.259491</td>\n",
              "    </tr>\n",
              "    <tr>\n",
              "      <th>test</th>\n",
              "      <td>0.082171</td>\n",
              "      <td>0.581186</td>\n",
              "      <td>0.098272</td>\n",
              "      <td>0.184888</td>\n",
              "      <td>1.000000</td>\n",
              "      <td>0.228050</td>\n",
              "      <td>0.130395</td>\n",
              "      <td>0.220261</td>\n",
              "      <td>0.303454</td>\n",
              "    </tr>\n",
              "    <tr>\n",
              "      <th>mass</th>\n",
              "      <td>0.021719</td>\n",
              "      <td>0.232771</td>\n",
              "      <td>0.289230</td>\n",
              "      <td>0.648214</td>\n",
              "      <td>0.228050</td>\n",
              "      <td>1.000000</td>\n",
              "      <td>0.155382</td>\n",
              "      <td>0.025841</td>\n",
              "      <td>0.313680</td>\n",
              "    </tr>\n",
              "    <tr>\n",
              "      <th>pedi</th>\n",
              "      <td>-0.033523</td>\n",
              "      <td>0.137246</td>\n",
              "      <td>-0.002805</td>\n",
              "      <td>0.115016</td>\n",
              "      <td>0.130395</td>\n",
              "      <td>0.155382</td>\n",
              "      <td>1.000000</td>\n",
              "      <td>0.033561</td>\n",
              "      <td>0.173844</td>\n",
              "    </tr>\n",
              "    <tr>\n",
              "      <th>age</th>\n",
              "      <td>0.544341</td>\n",
              "      <td>0.267136</td>\n",
              "      <td>0.330107</td>\n",
              "      <td>0.166816</td>\n",
              "      <td>0.220261</td>\n",
              "      <td>0.025841</td>\n",
              "      <td>0.033561</td>\n",
              "      <td>1.000000</td>\n",
              "      <td>0.238356</td>\n",
              "    </tr>\n",
              "    <tr>\n",
              "      <th>class</th>\n",
              "      <td>0.221898</td>\n",
              "      <td>0.494650</td>\n",
              "      <td>0.170589</td>\n",
              "      <td>0.259491</td>\n",
              "      <td>0.303454</td>\n",
              "      <td>0.313680</td>\n",
              "      <td>0.173844</td>\n",
              "      <td>0.238356</td>\n",
              "      <td>1.000000</td>\n",
              "    </tr>\n",
              "  </tbody>\n",
              "</table>\n",
              "</div>"
            ],
            "text/plain": [
              "           preg      plas      pres  ...      pedi       age     class\n",
              "preg   1.000000  0.128135  0.214178  ... -0.033523  0.544341  0.221898\n",
              "plas   0.128135  1.000000  0.223192  ...  0.137246  0.267136  0.494650\n",
              "pres   0.214178  0.223192  1.000000  ... -0.002805  0.330107  0.170589\n",
              "skin   0.100239  0.228043  0.226839  ...  0.115016  0.166816  0.259491\n",
              "test   0.082171  0.581186  0.098272  ...  0.130395  0.220261  0.303454\n",
              "mass   0.021719  0.232771  0.289230  ...  0.155382  0.025841  0.313680\n",
              "pedi  -0.033523  0.137246 -0.002805  ...  1.000000  0.033561  0.173844\n",
              "age    0.544341  0.267136  0.330107  ...  0.033561  1.000000  0.238356\n",
              "class  0.221898  0.494650  0.170589  ...  0.173844  0.238356  1.000000\n",
              "\n",
              "[9 rows x 9 columns]"
            ]
          },
          "metadata": {
            "tags": []
          },
          "execution_count": 24
        }
      ]
    },
    {
      "cell_type": "markdown",
      "metadata": {
        "colab_type": "text",
        "id": "P_7xRF11h4Uf"
      },
      "source": [
        "What column has the highest correlation with class? Find the mean() value of that column"
      ]
    },
    {
      "cell_type": "code",
      "metadata": {
        "colab_type": "code",
        "id": "clb2Gh8Mn9d4",
        "colab": {
          "base_uri": "https://localhost:8080/",
          "height": 243
        },
        "outputId": "5ab09d6a-7d31-42d6-e3ce-d68fe828d22f"
      },
      "source": [
        "# your code here\n",
        "stats_of_highest_corr_column = data.loc[:, 'plas'].describe()\n",
        "\n",
        "#Mean of column that has the highest correlation \n",
        "mean_of_plas = stats_of_highest_corr_column['mean']\n",
        "print(mean_of_plas)\n",
        "\n",
        "#Another way of calculating the mean of the most correlated column/category with class.\n",
        "highest = 0\n",
        "\n",
        "#y is the column above, it is a list of all the other columns' correlations.\n",
        "y = data.corr()[\"class\"]\n",
        "print(y)\n",
        "\n",
        "#gets the highest correlated column.\n",
        "for i in range(len(y)-1):\n",
        "  if y[i] > highest:\n",
        "    highest = y[i]\n",
        "print(highest)\n",
        "\n",
        "#mean is calculated.\n",
        "mean_of_val = sum(data[\"plas\"])/len(data[\"plas\"])\n",
        "print(mean_of_val)\n",
        "class_mean = mean_of_val"
      ],
      "execution_count": 11,
      "outputs": [
        {
          "output_type": "stream",
          "text": [
            "121.6867627785059\n",
            "preg     0.221898\n",
            "plas     0.494650\n",
            "pres     0.170589\n",
            "skin     0.259491\n",
            "test     0.303454\n",
            "mass     0.313680\n",
            "pedi     0.173844\n",
            "age      0.238356\n",
            "class    1.000000\n",
            "Name: class, dtype: float64\n",
            "0.49465025908103116\n",
            "nan\n"
          ],
          "name": "stdout"
        }
      ]
    },
    {
      "cell_type": "markdown",
      "metadata": {
        "colab_type": "text",
        "id": "64yWhAARoWw-"
      },
      "source": [
        "Create a new dataframe with only people that are above the mean found above"
      ]
    },
    {
      "cell_type": "code",
      "metadata": {
        "colab_type": "code",
        "id": "HRLjs3agkdPY",
        "colab": {
          "base_uri": "https://localhost:8080/",
          "height": 66
        },
        "outputId": "22c1c066-0dca-4497-c419-388cff76dabe"
      },
      "source": [
        "# your code here\n",
        "#data set says true if they don't have above the mean plas.\n",
        "has_higher_than_mean_plas = data['plas'] > mean_of_plas\n",
        "\n",
        "#has ppl that or only above the mean plas\n",
        "high_plas = data[has_higher_than_mean_plas]\n",
        "high_plas.head(50)\n",
        "\n",
        "#Another way with people above the mean found above, which drops the NaNs.\n",
        "# your code here\n",
        "above_mean_data = 0\n",
        "above_mean_data = data[data[\"plas\"] > class_mean]\n",
        "print(len(above_mean_data))\n",
        "#above_mean_data.isnull().sum().sum() #no missing values\n",
        "above_mean_data.dropna()\n",
        "#sum(above_mean_data[\"age\"])/len(above_mean_data[\"age\"])"
      ],
      "execution_count": 17,
      "outputs": [
        {
          "output_type": "stream",
          "text": [
            "0\n"
          ],
          "name": "stdout"
        },
        {
          "output_type": "execute_result",
          "data": {
            "text/html": [
              "<div>\n",
              "<style scoped>\n",
              "    .dataframe tbody tr th:only-of-type {\n",
              "        vertical-align: middle;\n",
              "    }\n",
              "\n",
              "    .dataframe tbody tr th {\n",
              "        vertical-align: top;\n",
              "    }\n",
              "\n",
              "    .dataframe thead th {\n",
              "        text-align: right;\n",
              "    }\n",
              "</style>\n",
              "<table border=\"1\" class=\"dataframe\">\n",
              "  <thead>\n",
              "    <tr style=\"text-align: right;\">\n",
              "      <th></th>\n",
              "      <th>preg</th>\n",
              "      <th>plas</th>\n",
              "      <th>pres</th>\n",
              "      <th>skin</th>\n",
              "      <th>test</th>\n",
              "      <th>mass</th>\n",
              "      <th>pedi</th>\n",
              "      <th>age</th>\n",
              "      <th>class</th>\n",
              "    </tr>\n",
              "  </thead>\n",
              "  <tbody>\n",
              "  </tbody>\n",
              "</table>\n",
              "</div>"
            ],
            "text/plain": [
              "Empty DataFrame\n",
              "Columns: [preg, plas, pres, skin, test, mass, pedi, age, class]\n",
              "Index: []"
            ]
          },
          "metadata": {
            "tags": []
          },
          "execution_count": 17
        }
      ]
    },
    {
      "cell_type": "markdown",
      "metadata": {
        "colab_type": "text",
        "id": "RxGIQp0JrUnq"
      },
      "source": [
        "Create a new dataframe that only includes people who are above the average value for each column in the dataset (except 'class'). In other words, find the average value for each column, and then find which users have values above all of these average column values"
      ]
    },
    {
      "cell_type": "code",
      "metadata": {
        "colab_type": "code",
        "id": "Ylf4p6NNrfME",
        "colab": {
          "base_uri": "https://localhost:8080/",
          "height": 235
        },
        "outputId": "ce65f8c2-cdfb-446b-a391-85607f2d35f8"
      },
      "source": [
        "# write code here\n",
        "plas_mean = (data.loc[:, 'plas'].describe())['mean']\n",
        "preg_mean = (data.loc[:, 'preg'].describe())['mean']\n",
        "pres_mean = (data.loc[:, 'pres'].describe())['mean']\n",
        "skin_mean = (data.loc[:, 'skin'].describe())['mean']\n",
        "test_mean = (data.loc[:, 'test'].describe())['mean']\n",
        "mass_mean = (data.loc[:, 'mass'].describe())['mean']\n",
        "pedi_mean = (data.loc[:, 'pedi'].describe())['mean']\n",
        "age_mean = (data.loc[:, 'age'].describe())['mean']\n",
        "\n",
        "above_average =  data[ (data['plas'] > plas_mean) & (data['preg'] > preg_mean) & (data['pres'] > pres_mean) & (data['skin'] > skin_mean) \n",
        "                          & (data['test'] > test_mean) & (data['mass'] > mass_mean) & (data['age'] > age_mean)]\n",
        "\n",
        "above_average.head()\n",
        "\n",
        "#Another way of getting the ones above the mean for all class\n",
        "for x in above_mean_data:\n",
        "  #Have error probably because I clean dataset before creating above_man_data\n",
        "  temp_mean = sum(above_mean_data[x])/len(above_mean_data[x])\n",
        "  above_mean_data[x] = above_mean_data[x].where(above_mean_data[x] >= temp_mean, 0)\n",
        "above_mean_data"
      ],
      "execution_count": 19,
      "outputs": [
        {
          "output_type": "error",
          "ename": "ZeroDivisionError",
          "evalue": "ignored",
          "traceback": [
            "\u001b[0;31m---------------------------------------------------------------------------\u001b[0m",
            "\u001b[0;31mZeroDivisionError\u001b[0m                         Traceback (most recent call last)",
            "\u001b[0;32m<ipython-input-19-1e9fb34607ed>\u001b[0m in \u001b[0;36m<module>\u001b[0;34m()\u001b[0m\n\u001b[1;32m     17\u001b[0m \u001b[0;32mfor\u001b[0m \u001b[0mx\u001b[0m \u001b[0;32min\u001b[0m \u001b[0mabove_mean_data\u001b[0m\u001b[0;34m:\u001b[0m\u001b[0;34m\u001b[0m\u001b[0;34m\u001b[0m\u001b[0m\n\u001b[1;32m     18\u001b[0m   \u001b[0;31m#Have error probably because I clean dataset before creating above_man_data\u001b[0m\u001b[0;34m\u001b[0m\u001b[0;34m\u001b[0m\u001b[0;34m\u001b[0m\u001b[0m\n\u001b[0;32m---> 19\u001b[0;31m   \u001b[0mtemp_mean\u001b[0m \u001b[0;34m=\u001b[0m \u001b[0msum\u001b[0m\u001b[0;34m(\u001b[0m\u001b[0mabove_mean_data\u001b[0m\u001b[0;34m[\u001b[0m\u001b[0mx\u001b[0m\u001b[0;34m]\u001b[0m\u001b[0;34m)\u001b[0m\u001b[0;34m/\u001b[0m\u001b[0mlen\u001b[0m\u001b[0;34m(\u001b[0m\u001b[0mabove_mean_data\u001b[0m\u001b[0;34m[\u001b[0m\u001b[0mx\u001b[0m\u001b[0;34m]\u001b[0m\u001b[0;34m)\u001b[0m\u001b[0;34m\u001b[0m\u001b[0;34m\u001b[0m\u001b[0m\n\u001b[0m\u001b[1;32m     20\u001b[0m   \u001b[0mabove_mean_data\u001b[0m\u001b[0;34m[\u001b[0m\u001b[0mx\u001b[0m\u001b[0;34m]\u001b[0m \u001b[0;34m=\u001b[0m \u001b[0mabove_mean_data\u001b[0m\u001b[0;34m[\u001b[0m\u001b[0mx\u001b[0m\u001b[0;34m]\u001b[0m\u001b[0;34m.\u001b[0m\u001b[0mwhere\u001b[0m\u001b[0;34m(\u001b[0m\u001b[0mabove_mean_data\u001b[0m\u001b[0;34m[\u001b[0m\u001b[0mx\u001b[0m\u001b[0;34m]\u001b[0m \u001b[0;34m>=\u001b[0m \u001b[0mtemp_mean\u001b[0m\u001b[0;34m,\u001b[0m \u001b[0;36m0\u001b[0m\u001b[0;34m)\u001b[0m\u001b[0;34m\u001b[0m\u001b[0;34m\u001b[0m\u001b[0m\n\u001b[1;32m     21\u001b[0m \u001b[0mabove_mean_data\u001b[0m\u001b[0;34m\u001b[0m\u001b[0;34m\u001b[0m\u001b[0m\n",
            "\u001b[0;31mZeroDivisionError\u001b[0m: division by zero"
          ]
        }
      ]
    },
    {
      "cell_type": "markdown",
      "metadata": {
        "colab_type": "text",
        "id": "24pCgP2xbCwZ"
      },
      "source": [
        "Ignoring the index (resetting the index to 0), sort the values based on \"skin\", \"test\", and \"pedi\" values in ascending order. Please write this in one line."
      ]
    },
    {
      "cell_type": "code",
      "metadata": {
        "colab_type": "code",
        "id": "wXZysbVwa7i5",
        "colab": {
          "base_uri": "https://localhost:8080/",
          "height": 662
        },
        "outputId": "9d7b62a3-34fd-4b95-bcd6-083382d4be57"
      },
      "source": [
        "# write code here      \n",
        "#Had to add ignore_index as parameter\n",
        "sample = data.sort_values(by=['skin', 'test', 'pedi'], ascending=True, na_position='first') \n",
        "sample.head(20)   "
      ],
      "execution_count": null,
      "outputs": [
        {
          "output_type": "execute_result",
          "data": {
            "text/html": [
              "<div>\n",
              "<style scoped>\n",
              "    .dataframe tbody tr th:only-of-type {\n",
              "        vertical-align: middle;\n",
              "    }\n",
              "\n",
              "    .dataframe tbody tr th {\n",
              "        vertical-align: top;\n",
              "    }\n",
              "\n",
              "    .dataframe thead th {\n",
              "        text-align: right;\n",
              "    }\n",
              "</style>\n",
              "<table border=\"1\" class=\"dataframe\">\n",
              "  <thead>\n",
              "    <tr style=\"text-align: right;\">\n",
              "      <th></th>\n",
              "      <th>preg</th>\n",
              "      <th>plas</th>\n",
              "      <th>pres</th>\n",
              "      <th>skin</th>\n",
              "      <th>test</th>\n",
              "      <th>mass</th>\n",
              "      <th>pedi</th>\n",
              "      <th>age</th>\n",
              "      <th>class</th>\n",
              "    </tr>\n",
              "  </thead>\n",
              "  <tbody>\n",
              "    <tr>\n",
              "      <th>268</th>\n",
              "      <td>0</td>\n",
              "      <td>102.0</td>\n",
              "      <td>52.0</td>\n",
              "      <td>NaN</td>\n",
              "      <td>NaN</td>\n",
              "      <td>25.1</td>\n",
              "      <td>0.078</td>\n",
              "      <td>21</td>\n",
              "      <td>0</td>\n",
              "    </tr>\n",
              "    <tr>\n",
              "      <th>180</th>\n",
              "      <td>6</td>\n",
              "      <td>87.0</td>\n",
              "      <td>80.0</td>\n",
              "      <td>NaN</td>\n",
              "      <td>NaN</td>\n",
              "      <td>23.2</td>\n",
              "      <td>0.084</td>\n",
              "      <td>32</td>\n",
              "      <td>0</td>\n",
              "    </tr>\n",
              "    <tr>\n",
              "      <th>598</th>\n",
              "      <td>1</td>\n",
              "      <td>173.0</td>\n",
              "      <td>74.0</td>\n",
              "      <td>NaN</td>\n",
              "      <td>NaN</td>\n",
              "      <td>36.8</td>\n",
              "      <td>0.088</td>\n",
              "      <td>38</td>\n",
              "      <td>1</td>\n",
              "    </tr>\n",
              "    <tr>\n",
              "      <th>81</th>\n",
              "      <td>2</td>\n",
              "      <td>74.0</td>\n",
              "      <td>NaN</td>\n",
              "      <td>NaN</td>\n",
              "      <td>NaN</td>\n",
              "      <td>NaN</td>\n",
              "      <td>0.102</td>\n",
              "      <td>22</td>\n",
              "      <td>0</td>\n",
              "    </tr>\n",
              "    <tr>\n",
              "      <th>430</th>\n",
              "      <td>2</td>\n",
              "      <td>99.0</td>\n",
              "      <td>NaN</td>\n",
              "      <td>NaN</td>\n",
              "      <td>NaN</td>\n",
              "      <td>22.2</td>\n",
              "      <td>0.108</td>\n",
              "      <td>23</td>\n",
              "      <td>0</td>\n",
              "    </tr>\n",
              "    <tr>\n",
              "      <th>560</th>\n",
              "      <td>6</td>\n",
              "      <td>125.0</td>\n",
              "      <td>76.0</td>\n",
              "      <td>NaN</td>\n",
              "      <td>NaN</td>\n",
              "      <td>33.8</td>\n",
              "      <td>0.121</td>\n",
              "      <td>54</td>\n",
              "      <td>1</td>\n",
              "    </tr>\n",
              "    <tr>\n",
              "      <th>714</th>\n",
              "      <td>3</td>\n",
              "      <td>102.0</td>\n",
              "      <td>74.0</td>\n",
              "      <td>NaN</td>\n",
              "      <td>NaN</td>\n",
              "      <td>29.5</td>\n",
              "      <td>0.121</td>\n",
              "      <td>32</td>\n",
              "      <td>0</td>\n",
              "    </tr>\n",
              "    <tr>\n",
              "      <th>474</th>\n",
              "      <td>4</td>\n",
              "      <td>114.0</td>\n",
              "      <td>64.0</td>\n",
              "      <td>NaN</td>\n",
              "      <td>NaN</td>\n",
              "      <td>28.9</td>\n",
              "      <td>0.126</td>\n",
              "      <td>24</td>\n",
              "      <td>0</td>\n",
              "    </tr>\n",
              "    <tr>\n",
              "      <th>678</th>\n",
              "      <td>3</td>\n",
              "      <td>121.0</td>\n",
              "      <td>52.0</td>\n",
              "      <td>NaN</td>\n",
              "      <td>NaN</td>\n",
              "      <td>36.0</td>\n",
              "      <td>0.127</td>\n",
              "      <td>25</td>\n",
              "      <td>1</td>\n",
              "    </tr>\n",
              "    <tr>\n",
              "      <th>319</th>\n",
              "      <td>6</td>\n",
              "      <td>194.0</td>\n",
              "      <td>78.0</td>\n",
              "      <td>NaN</td>\n",
              "      <td>NaN</td>\n",
              "      <td>23.5</td>\n",
              "      <td>0.129</td>\n",
              "      <td>59</td>\n",
              "      <td>1</td>\n",
              "    </tr>\n",
              "    <tr>\n",
              "      <th>586</th>\n",
              "      <td>8</td>\n",
              "      <td>143.0</td>\n",
              "      <td>66.0</td>\n",
              "      <td>NaN</td>\n",
              "      <td>NaN</td>\n",
              "      <td>34.9</td>\n",
              "      <td>0.129</td>\n",
              "      <td>41</td>\n",
              "      <td>1</td>\n",
              "    </tr>\n",
              "    <tr>\n",
              "      <th>7</th>\n",
              "      <td>10</td>\n",
              "      <td>115.0</td>\n",
              "      <td>NaN</td>\n",
              "      <td>NaN</td>\n",
              "      <td>NaN</td>\n",
              "      <td>35.3</td>\n",
              "      <td>0.134</td>\n",
              "      <td>29</td>\n",
              "      <td>0</td>\n",
              "    </tr>\n",
              "    <tr>\n",
              "      <th>404</th>\n",
              "      <td>5</td>\n",
              "      <td>168.0</td>\n",
              "      <td>64.0</td>\n",
              "      <td>NaN</td>\n",
              "      <td>NaN</td>\n",
              "      <td>32.9</td>\n",
              "      <td>0.135</td>\n",
              "      <td>41</td>\n",
              "      <td>1</td>\n",
              "    </tr>\n",
              "    <tr>\n",
              "      <th>154</th>\n",
              "      <td>8</td>\n",
              "      <td>188.0</td>\n",
              "      <td>78.0</td>\n",
              "      <td>NaN</td>\n",
              "      <td>NaN</td>\n",
              "      <td>47.9</td>\n",
              "      <td>0.137</td>\n",
              "      <td>43</td>\n",
              "      <td>1</td>\n",
              "    </tr>\n",
              "    <tr>\n",
              "      <th>333</th>\n",
              "      <td>12</td>\n",
              "      <td>106.0</td>\n",
              "      <td>80.0</td>\n",
              "      <td>NaN</td>\n",
              "      <td>NaN</td>\n",
              "      <td>23.6</td>\n",
              "      <td>0.137</td>\n",
              "      <td>44</td>\n",
              "      <td>0</td>\n",
              "    </tr>\n",
              "    <tr>\n",
              "      <th>619</th>\n",
              "      <td>0</td>\n",
              "      <td>119.0</td>\n",
              "      <td>NaN</td>\n",
              "      <td>NaN</td>\n",
              "      <td>NaN</td>\n",
              "      <td>32.4</td>\n",
              "      <td>0.141</td>\n",
              "      <td>24</td>\n",
              "      <td>1</td>\n",
              "    </tr>\n",
              "    <tr>\n",
              "      <th>729</th>\n",
              "      <td>2</td>\n",
              "      <td>92.0</td>\n",
              "      <td>52.0</td>\n",
              "      <td>NaN</td>\n",
              "      <td>NaN</td>\n",
              "      <td>30.1</td>\n",
              "      <td>0.141</td>\n",
              "      <td>22</td>\n",
              "      <td>0</td>\n",
              "    </tr>\n",
              "    <tr>\n",
              "      <th>190</th>\n",
              "      <td>3</td>\n",
              "      <td>111.0</td>\n",
              "      <td>62.0</td>\n",
              "      <td>NaN</td>\n",
              "      <td>NaN</td>\n",
              "      <td>22.6</td>\n",
              "      <td>0.142</td>\n",
              "      <td>21</td>\n",
              "      <td>0</td>\n",
              "    </tr>\n",
              "    <tr>\n",
              "      <th>762</th>\n",
              "      <td>9</td>\n",
              "      <td>89.0</td>\n",
              "      <td>62.0</td>\n",
              "      <td>NaN</td>\n",
              "      <td>NaN</td>\n",
              "      <td>22.5</td>\n",
              "      <td>0.142</td>\n",
              "      <td>33</td>\n",
              "      <td>0</td>\n",
              "    </tr>\n",
              "    <tr>\n",
              "      <th>628</th>\n",
              "      <td>5</td>\n",
              "      <td>128.0</td>\n",
              "      <td>80.0</td>\n",
              "      <td>NaN</td>\n",
              "      <td>NaN</td>\n",
              "      <td>34.6</td>\n",
              "      <td>0.144</td>\n",
              "      <td>45</td>\n",
              "      <td>0</td>\n",
              "    </tr>\n",
              "  </tbody>\n",
              "</table>\n",
              "</div>"
            ],
            "text/plain": [
              "     preg   plas  pres  skin  test  mass   pedi  age  class\n",
              "268     0  102.0  52.0   NaN   NaN  25.1  0.078   21      0\n",
              "180     6   87.0  80.0   NaN   NaN  23.2  0.084   32      0\n",
              "598     1  173.0  74.0   NaN   NaN  36.8  0.088   38      1\n",
              "81      2   74.0   NaN   NaN   NaN   NaN  0.102   22      0\n",
              "430     2   99.0   NaN   NaN   NaN  22.2  0.108   23      0\n",
              "560     6  125.0  76.0   NaN   NaN  33.8  0.121   54      1\n",
              "714     3  102.0  74.0   NaN   NaN  29.5  0.121   32      0\n",
              "474     4  114.0  64.0   NaN   NaN  28.9  0.126   24      0\n",
              "678     3  121.0  52.0   NaN   NaN  36.0  0.127   25      1\n",
              "319     6  194.0  78.0   NaN   NaN  23.5  0.129   59      1\n",
              "586     8  143.0  66.0   NaN   NaN  34.9  0.129   41      1\n",
              "7      10  115.0   NaN   NaN   NaN  35.3  0.134   29      0\n",
              "404     5  168.0  64.0   NaN   NaN  32.9  0.135   41      1\n",
              "154     8  188.0  78.0   NaN   NaN  47.9  0.137   43      1\n",
              "333    12  106.0  80.0   NaN   NaN  23.6  0.137   44      0\n",
              "619     0  119.0   NaN   NaN   NaN  32.4  0.141   24      1\n",
              "729     2   92.0  52.0   NaN   NaN  30.1  0.141   22      0\n",
              "190     3  111.0  62.0   NaN   NaN  22.6  0.142   21      0\n",
              "762     9   89.0  62.0   NaN   NaN  22.5  0.142   33      0\n",
              "628     5  128.0  80.0   NaN   NaN  34.6  0.144   45      0"
            ]
          },
          "metadata": {
            "tags": []
          },
          "execution_count": 58
        }
      ]
    },
    {
      "cell_type": "markdown",
      "metadata": {
        "colab_type": "text",
        "id": "hUs7viD6gSPT"
      },
      "source": [
        "Notice that there are some repeats in values (like in the age and the preg column). "
      ]
    },
    {
      "cell_type": "code",
      "metadata": {
        "colab_type": "code",
        "id": "Rf2qeUWlfbEO",
        "colab": {}
      },
      "source": [
        ""
      ],
      "execution_count": null,
      "outputs": []
    },
    {
      "cell_type": "markdown",
      "metadata": {
        "colab_type": "text",
        "id": "BIJkXsK4ch-u"
      },
      "source": [
        "Now Let's find the 4 largest values for \"age\" and \"mass\". Reference the pandas documentation (https://pandas.pydata.org/docs/) if you are stuck!"
      ]
    },
    {
      "cell_type": "code",
      "metadata": {
        "colab_type": "code",
        "id": "kSl28jLLdAF9",
        "colab": {
          "base_uri": "https://localhost:8080/",
          "height": 171
        },
        "outputId": "901c5b6c-a1ee-4f58-8d7d-27bfec7d779c"
      },
      "source": [
        "# write code here\n",
        "age_sort = data.sort_values(by='age', ascending=False, na_position='last')\n",
        "\n",
        "#largest 4 for age\n",
        "largest_ages = age_sort.iloc[0:4]\n",
        "largest_ages.head()\n",
        "\n",
        "\n",
        "mass_sort = data.sort_values(by='mass', ascending=False, na_position='last')\n",
        "#largest 4 for age\n",
        "largest_masses = mass_sort.iloc[0:4]\n",
        "largest_masses.head()"
      ],
      "execution_count": null,
      "outputs": [
        {
          "output_type": "execute_result",
          "data": {
            "text/html": [
              "<div>\n",
              "<style scoped>\n",
              "    .dataframe tbody tr th:only-of-type {\n",
              "        vertical-align: middle;\n",
              "    }\n",
              "\n",
              "    .dataframe tbody tr th {\n",
              "        vertical-align: top;\n",
              "    }\n",
              "\n",
              "    .dataframe thead th {\n",
              "        text-align: right;\n",
              "    }\n",
              "</style>\n",
              "<table border=\"1\" class=\"dataframe\">\n",
              "  <thead>\n",
              "    <tr style=\"text-align: right;\">\n",
              "      <th></th>\n",
              "      <th>preg</th>\n",
              "      <th>plas</th>\n",
              "      <th>pres</th>\n",
              "      <th>skin</th>\n",
              "      <th>test</th>\n",
              "      <th>mass</th>\n",
              "      <th>pedi</th>\n",
              "      <th>age</th>\n",
              "      <th>class</th>\n",
              "    </tr>\n",
              "  </thead>\n",
              "  <tbody>\n",
              "    <tr>\n",
              "      <th>177</th>\n",
              "      <td>0</td>\n",
              "      <td>129.0</td>\n",
              "      <td>110.0</td>\n",
              "      <td>46.0</td>\n",
              "      <td>130.0</td>\n",
              "      <td>67.1</td>\n",
              "      <td>0.319</td>\n",
              "      <td>26</td>\n",
              "      <td>1</td>\n",
              "    </tr>\n",
              "    <tr>\n",
              "      <th>445</th>\n",
              "      <td>0</td>\n",
              "      <td>180.0</td>\n",
              "      <td>78.0</td>\n",
              "      <td>63.0</td>\n",
              "      <td>14.0</td>\n",
              "      <td>59.4</td>\n",
              "      <td>2.420</td>\n",
              "      <td>25</td>\n",
              "      <td>1</td>\n",
              "    </tr>\n",
              "    <tr>\n",
              "      <th>673</th>\n",
              "      <td>3</td>\n",
              "      <td>123.0</td>\n",
              "      <td>100.0</td>\n",
              "      <td>35.0</td>\n",
              "      <td>240.0</td>\n",
              "      <td>57.3</td>\n",
              "      <td>0.880</td>\n",
              "      <td>22</td>\n",
              "      <td>0</td>\n",
              "    </tr>\n",
              "    <tr>\n",
              "      <th>125</th>\n",
              "      <td>1</td>\n",
              "      <td>88.0</td>\n",
              "      <td>30.0</td>\n",
              "      <td>42.0</td>\n",
              "      <td>99.0</td>\n",
              "      <td>55.0</td>\n",
              "      <td>0.496</td>\n",
              "      <td>26</td>\n",
              "      <td>1</td>\n",
              "    </tr>\n",
              "  </tbody>\n",
              "</table>\n",
              "</div>"
            ],
            "text/plain": [
              "     preg   plas   pres  skin   test  mass   pedi  age  class\n",
              "177     0  129.0  110.0  46.0  130.0  67.1  0.319   26      1\n",
              "445     0  180.0   78.0  63.0   14.0  59.4  2.420   25      1\n",
              "673     3  123.0  100.0  35.0  240.0  57.3  0.880   22      0\n",
              "125     1   88.0   30.0  42.0   99.0  55.0  0.496   26      1"
            ]
          },
          "metadata": {
            "tags": []
          },
          "execution_count": 81
        }
      ]
    },
    {
      "cell_type": "markdown",
      "metadata": {
        "colab_type": "text",
        "id": "fJRwe8UfqvNG"
      },
      "source": [
        "Now find the smallest 4 values for \"plas\" and \"preg\" in reverse order (largest to smallest). Please refer to the API documentation if you are stuck-- https://pandas.pydata.org/pandas-docs/stable/reference/index.html"
      ]
    },
    {
      "cell_type": "code",
      "metadata": {
        "colab_type": "code",
        "id": "icQcbPg1quNI",
        "colab": {
          "base_uri": "https://localhost:8080/",
          "height": 294
        },
        "outputId": "38ddee58-03d2-421e-86d0-54782a821ed6"
      },
      "source": [
        "#write code here\n",
        "plas_sort = data.sort_values(by='plas', ascending=True, na_position='last')\n",
        "#largest 4 for age\n",
        "smallest_plas = plas_sort.iloc[0:4]\n",
        "\n",
        "#smallest 4 plas in reverse order\n",
        "smallest_plas.sort_values(by='plas', ascending=False, na_position='last')\n",
        "\n",
        "\n",
        "preg_sort = data.sort_values(by='preg', ascending=True, na_position='last')\n",
        "#largest 4 for age\n",
        "smallest_preg = plas_sort.iloc[0:4]\n",
        "\n",
        "#smallest 4 preg in reverse order\n",
        "smallest_preg.sort_values(by='preg', ascending=False, na_position='last')\n",
        "\n"
      ],
      "execution_count": null,
      "outputs": [
        {
          "output_type": "execute_result",
          "data": {
            "text/html": [
              "<div>\n",
              "<style scoped>\n",
              "    .dataframe tbody tr th:only-of-type {\n",
              "        vertical-align: middle;\n",
              "    }\n",
              "\n",
              "    .dataframe tbody tr th {\n",
              "        vertical-align: top;\n",
              "    }\n",
              "\n",
              "    .dataframe thead th {\n",
              "        text-align: right;\n",
              "    }\n",
              "</style>\n",
              "<table border=\"1\" class=\"dataframe\">\n",
              "  <thead>\n",
              "    <tr style=\"text-align: right;\">\n",
              "      <th></th>\n",
              "      <th>preg</th>\n",
              "      <th>plas</th>\n",
              "      <th>pres</th>\n",
              "      <th>skin</th>\n",
              "      <th>test</th>\n",
              "      <th>mass</th>\n",
              "      <th>pedi</th>\n",
              "      <th>age</th>\n",
              "      <th>class</th>\n",
              "    </tr>\n",
              "  </thead>\n",
              "  <tbody>\n",
              "    <tr>\n",
              "      <th>count</th>\n",
              "      <td>768.000000</td>\n",
              "      <td>763.000000</td>\n",
              "      <td>733.000000</td>\n",
              "      <td>541.000000</td>\n",
              "      <td>394.000000</td>\n",
              "      <td>757.000000</td>\n",
              "      <td>768.000000</td>\n",
              "      <td>768.000000</td>\n",
              "      <td>768.000000</td>\n",
              "    </tr>\n",
              "    <tr>\n",
              "      <th>mean</th>\n",
              "      <td>3.845052</td>\n",
              "      <td>121.686763</td>\n",
              "      <td>72.405184</td>\n",
              "      <td>29.153420</td>\n",
              "      <td>155.548223</td>\n",
              "      <td>32.457464</td>\n",
              "      <td>0.471876</td>\n",
              "      <td>33.240885</td>\n",
              "      <td>0.348958</td>\n",
              "    </tr>\n",
              "    <tr>\n",
              "      <th>std</th>\n",
              "      <td>3.369578</td>\n",
              "      <td>30.535641</td>\n",
              "      <td>12.382158</td>\n",
              "      <td>10.476982</td>\n",
              "      <td>118.775855</td>\n",
              "      <td>6.924988</td>\n",
              "      <td>0.331329</td>\n",
              "      <td>11.760232</td>\n",
              "      <td>0.476951</td>\n",
              "    </tr>\n",
              "    <tr>\n",
              "      <th>min</th>\n",
              "      <td>0.000000</td>\n",
              "      <td>44.000000</td>\n",
              "      <td>24.000000</td>\n",
              "      <td>7.000000</td>\n",
              "      <td>14.000000</td>\n",
              "      <td>18.200000</td>\n",
              "      <td>0.078000</td>\n",
              "      <td>21.000000</td>\n",
              "      <td>0.000000</td>\n",
              "    </tr>\n",
              "    <tr>\n",
              "      <th>25%</th>\n",
              "      <td>1.000000</td>\n",
              "      <td>99.000000</td>\n",
              "      <td>64.000000</td>\n",
              "      <td>22.000000</td>\n",
              "      <td>76.250000</td>\n",
              "      <td>27.500000</td>\n",
              "      <td>0.243750</td>\n",
              "      <td>24.000000</td>\n",
              "      <td>0.000000</td>\n",
              "    </tr>\n",
              "    <tr>\n",
              "      <th>50%</th>\n",
              "      <td>3.000000</td>\n",
              "      <td>117.000000</td>\n",
              "      <td>72.000000</td>\n",
              "      <td>29.000000</td>\n",
              "      <td>125.000000</td>\n",
              "      <td>32.300000</td>\n",
              "      <td>0.372500</td>\n",
              "      <td>29.000000</td>\n",
              "      <td>0.000000</td>\n",
              "    </tr>\n",
              "    <tr>\n",
              "      <th>75%</th>\n",
              "      <td>6.000000</td>\n",
              "      <td>141.000000</td>\n",
              "      <td>80.000000</td>\n",
              "      <td>36.000000</td>\n",
              "      <td>190.000000</td>\n",
              "      <td>36.600000</td>\n",
              "      <td>0.626250</td>\n",
              "      <td>41.000000</td>\n",
              "      <td>1.000000</td>\n",
              "    </tr>\n",
              "    <tr>\n",
              "      <th>max</th>\n",
              "      <td>17.000000</td>\n",
              "      <td>199.000000</td>\n",
              "      <td>122.000000</td>\n",
              "      <td>99.000000</td>\n",
              "      <td>846.000000</td>\n",
              "      <td>67.100000</td>\n",
              "      <td>2.420000</td>\n",
              "      <td>81.000000</td>\n",
              "      <td>1.000000</td>\n",
              "    </tr>\n",
              "  </tbody>\n",
              "</table>\n",
              "</div>"
            ],
            "text/plain": [
              "             preg        plas        pres  ...        pedi         age       class\n",
              "count  768.000000  763.000000  733.000000  ...  768.000000  768.000000  768.000000\n",
              "mean     3.845052  121.686763   72.405184  ...    0.471876   33.240885    0.348958\n",
              "std      3.369578   30.535641   12.382158  ...    0.331329   11.760232    0.476951\n",
              "min      0.000000   44.000000   24.000000  ...    0.078000   21.000000    0.000000\n",
              "25%      1.000000   99.000000   64.000000  ...    0.243750   24.000000    0.000000\n",
              "50%      3.000000  117.000000   72.000000  ...    0.372500   29.000000    0.000000\n",
              "75%      6.000000  141.000000   80.000000  ...    0.626250   41.000000    1.000000\n",
              "max     17.000000  199.000000  122.000000  ...    2.420000   81.000000    1.000000\n",
              "\n",
              "[8 rows x 9 columns]"
            ]
          },
          "metadata": {
            "tags": []
          },
          "execution_count": 98
        }
      ]
    },
    {
      "cell_type": "code",
      "metadata": {
        "id": "PRIq5mp93_M3",
        "colab_type": "code",
        "colab": {}
      },
      "source": [
        ""
      ],
      "execution_count": null,
      "outputs": []
    }
  ]
}