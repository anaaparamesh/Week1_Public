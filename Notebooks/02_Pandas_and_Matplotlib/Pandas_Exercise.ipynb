{
  "nbformat": 4,
  "nbformat_minor": 0,
  "metadata": {
    "colab": {
      "name": "FullyUpdatedPandasProblemSets.ipynb",
      "provenance": [],
      "collapsed_sections": [],
      "include_colab_link": true
    },
    "kernelspec": {
      "display_name": "Python 3",
      "language": "python",
      "name": "python3"
    },
    "language_info": {
      "codemirror_mode": {
        "name": "ipython",
        "version": 3
      },
      "file_extension": ".py",
      "mimetype": "text/x-python",
      "name": "python",
      "nbconvert_exporter": "python",
      "pygments_lexer": "ipython3",
      "version": "3.7.3"
    }
  },
  "cells": [
    {
      "cell_type": "markdown",
      "metadata": {
        "id": "view-in-github",
        "colab_type": "text"
      },
      "source": [
        "<a href=\"https://colab.research.google.com/github/anaaparamesh/Week1_Public/blob/master/Notebooks/02_Pandas_and_Matplotlib/Pandas_Exercise.ipynb\" target=\"_parent\"><img src=\"https://colab.research.google.com/assets/colab-badge.svg\" alt=\"Open In Colab\"/></a>"
      ]
    },
    {
      "cell_type": "markdown",
      "metadata": {
        "colab_type": "text",
        "id": "bSU6eKZTdMXZ"
      },
      "source": [
        "# Pandas Problem Set"
      ]
    },
    {
      "cell_type": "code",
      "metadata": {
        "colab_type": "code",
        "id": "c5ewTg7vdQFm",
        "colab": {}
      },
      "source": [
        "import pandas as pd\n",
        "import numpy as np\n",
        "import matplotlib.pyplot as plt\n",
        "import statistics"
      ],
      "execution_count": 2,
      "outputs": []
    },
    {
      "cell_type": "code",
      "metadata": {
        "colab_type": "code",
        "id": "F4btIg8vdSyb",
        "colab": {}
      },
      "source": [
        "url = \"https://raw.githubusercontent.com/BeaverWorksMedlytics2020/Data_Public/master/NotebookExampleData/Week1/diabetes.csv\"\n",
        "names = ['preg', 'plas', 'pres', 'skin', 'test', 'mass', 'pedi', 'age', 'class']"
      ],
      "execution_count": 3,
      "outputs": []
    },
    {
      "cell_type": "markdown",
      "metadata": {
        "colab_type": "text",
        "id": "QOLgFaSKeShR"
      },
      "source": [
        "Read in csv above to a pandas dataframe"
      ]
    },
    {
      "cell_type": "code",
      "metadata": {
        "colab_type": "code",
        "id": "Okcb8dnXeX2C",
        "colab": {
          "base_uri": "https://localhost:8080/",
          "height": 202
        },
        "outputId": "bc9bad69-8b4c-4b2f-d217-44d457809620"
      },
      "source": [
        "# your code here\n",
        "data = pd.read_csv(url, names=names)\n",
        "data.head()"
      ],
      "execution_count": 5,
      "outputs": [
        {
          "output_type": "execute_result",
          "data": {
            "text/html": [
              "<div>\n",
              "<style scoped>\n",
              "    .dataframe tbody tr th:only-of-type {\n",
              "        vertical-align: middle;\n",
              "    }\n",
              "\n",
              "    .dataframe tbody tr th {\n",
              "        vertical-align: top;\n",
              "    }\n",
              "\n",
              "    .dataframe thead th {\n",
              "        text-align: right;\n",
              "    }\n",
              "</style>\n",
              "<table border=\"1\" class=\"dataframe\">\n",
              "  <thead>\n",
              "    <tr style=\"text-align: right;\">\n",
              "      <th></th>\n",
              "      <th>preg</th>\n",
              "      <th>plas</th>\n",
              "      <th>pres</th>\n",
              "      <th>skin</th>\n",
              "      <th>test</th>\n",
              "      <th>mass</th>\n",
              "      <th>pedi</th>\n",
              "      <th>age</th>\n",
              "      <th>class</th>\n",
              "    </tr>\n",
              "  </thead>\n",
              "  <tbody>\n",
              "    <tr>\n",
              "      <th>0</th>\n",
              "      <td>6</td>\n",
              "      <td>148</td>\n",
              "      <td>72</td>\n",
              "      <td>35</td>\n",
              "      <td>0</td>\n",
              "      <td>33.6</td>\n",
              "      <td>0.627</td>\n",
              "      <td>50</td>\n",
              "      <td>1</td>\n",
              "    </tr>\n",
              "    <tr>\n",
              "      <th>1</th>\n",
              "      <td>1</td>\n",
              "      <td>85</td>\n",
              "      <td>66</td>\n",
              "      <td>29</td>\n",
              "      <td>0</td>\n",
              "      <td>26.6</td>\n",
              "      <td>0.351</td>\n",
              "      <td>31</td>\n",
              "      <td>0</td>\n",
              "    </tr>\n",
              "    <tr>\n",
              "      <th>2</th>\n",
              "      <td>8</td>\n",
              "      <td>183</td>\n",
              "      <td>64</td>\n",
              "      <td>0</td>\n",
              "      <td>0</td>\n",
              "      <td>23.3</td>\n",
              "      <td>0.672</td>\n",
              "      <td>32</td>\n",
              "      <td>1</td>\n",
              "    </tr>\n",
              "    <tr>\n",
              "      <th>3</th>\n",
              "      <td>1</td>\n",
              "      <td>89</td>\n",
              "      <td>66</td>\n",
              "      <td>23</td>\n",
              "      <td>94</td>\n",
              "      <td>28.1</td>\n",
              "      <td>0.167</td>\n",
              "      <td>21</td>\n",
              "      <td>0</td>\n",
              "    </tr>\n",
              "    <tr>\n",
              "      <th>4</th>\n",
              "      <td>0</td>\n",
              "      <td>137</td>\n",
              "      <td>40</td>\n",
              "      <td>35</td>\n",
              "      <td>168</td>\n",
              "      <td>43.1</td>\n",
              "      <td>2.288</td>\n",
              "      <td>33</td>\n",
              "      <td>1</td>\n",
              "    </tr>\n",
              "  </tbody>\n",
              "</table>\n",
              "</div>"
            ],
            "text/plain": [
              "   preg  plas  pres  skin  test  mass   pedi  age  class\n",
              "0     6   148    72    35     0  33.6  0.627   50      1\n",
              "1     1    85    66    29     0  26.6  0.351   31      0\n",
              "2     8   183    64     0     0  23.3  0.672   32      1\n",
              "3     1    89    66    23    94  28.1  0.167   21      0\n",
              "4     0   137    40    35   168  43.1  2.288   33      1"
            ]
          },
          "metadata": {
            "tags": []
          },
          "execution_count": 5
        }
      ]
    },
    {
      "cell_type": "markdown",
      "metadata": {
        "colab_type": "text",
        "id": "d4DyOsuoewE2"
      },
      "source": [
        "Print out the age and class of the 100th patient"
      ]
    },
    {
      "cell_type": "code",
      "metadata": {
        "colab_type": "code",
        "id": "xZqBsg39eY8_",
        "colab": {
          "base_uri": "https://localhost:8080/",
          "height": 52
        },
        "outputId": "fb37fdf0-f192-4e68-a4bf-16e1ce0e27f3"
      },
      "source": [
        "# your code here\n",
        "print(data.iloc[99:100, 7:] )"
      ],
      "execution_count": 6,
      "outputs": [
        {
          "output_type": "stream",
          "text": [
            "    age  class\n",
            "99   31      1\n"
          ],
          "name": "stdout"
        }
      ]
    },
    {
      "cell_type": "markdown",
      "metadata": {
        "colab_type": "text",
        "id": "j8L2EM-5iOWc"
      },
      "source": [
        "Write code to figure out how many people are classified as not having diabetes, class is 0"
      ]
    },
    {
      "cell_type": "code",
      "metadata": {
        "colab_type": "code",
        "id": "vohzS51WiWvD",
        "colab": {
          "base_uri": "https://localhost:8080/",
          "height": 35
        },
        "outputId": "8b7906ef-220b-4b44-cb65-351a244eb67b"
      },
      "source": [
        "# your code here\n",
        "#These are invalid features that can have 0, makes no sense.\n",
        "invalid = ['plas', 'pres', 'skin', 'test', 'mass']\n",
        "\n",
        "#replace all the invalid zeros into Nan(not a number) and keep them in place.\n",
        "for i in invalid:\n",
        "    data[i].replace(to_replace=0, value=np.nan, inplace=True)\n",
        "\n",
        "#dropping rows with nan(what dropna does) and resetting the index.\n",
        "data_row = data.dropna(axis=0).reset_index(drop=True)\n",
        "\n",
        "#data set says true if they don't have diabetes\n",
        "no_diabetes_boolean = data_row['class'] != 1\n",
        "\n",
        "#has ppl that have no diabetes\n",
        "have_no_diabetes = data_row[no_diabetes_boolean]\n",
        "\n",
        "#number of ppl without diabetes.\n",
        "have_no_diabetes.shape[0]"
      ],
      "execution_count": 17,
      "outputs": [
        {
          "output_type": "execute_result",
          "data": {
            "text/plain": [
              "262"
            ]
          },
          "metadata": {
            "tags": []
          },
          "execution_count": 17
        }
      ]
    },
    {
      "cell_type": "markdown",
      "metadata": {
        "colab_type": "text",
        "id": "ieGRz4iiiX4E"
      },
      "source": [
        "Write code to figure out how many people are classified as having diabetes, class is 1"
      ]
    },
    {
      "cell_type": "code",
      "metadata": {
        "colab_type": "code",
        "id": "-jq2O-vriXRT",
        "colab": {
          "base_uri": "https://localhost:8080/",
          "height": 35
        },
        "outputId": "0db6005a-4ff6-4f21-e4d5-0e80444a3732"
      },
      "source": [
        "# your code here\n",
        "#boolean if they have diabetes\n",
        "have_diabetes_boolean = data_row['class'] == 1\n",
        "\n",
        "#data set of people that have diabetes\n",
        "have_diabetes = data_row[have_diabetes_boolean]\n",
        "\n",
        "#number of people that have diabetes\n",
        "have_diabetes.shape[0]"
      ],
      "execution_count": 18,
      "outputs": [
        {
          "output_type": "execute_result",
          "data": {
            "text/plain": [
              "130"
            ]
          },
          "metadata": {
            "tags": []
          },
          "execution_count": 18
        }
      ]
    },
    {
      "cell_type": "markdown",
      "metadata": {
        "colab_type": "text",
        "id": "oeFT7T9OnuSd"
      },
      "source": [
        "What percent of people have diabetes in the study"
      ]
    },
    {
      "cell_type": "code",
      "metadata": {
        "colab_type": "code",
        "id": "zGGHptFYnwq0",
        "colab": {
          "base_uri": "https://localhost:8080/",
          "height": 35
        },
        "outputId": "76cf6612-3cf7-4464-f292-34c44bb89da2"
      },
      "source": [
        "# your code here\n",
        "#the people that have diabetes over the people that don't have diabetes.\n",
        "(have_diabetes.shape[0] / data_row.shape[0]) * 100"
      ],
      "execution_count": 20,
      "outputs": [
        {
          "output_type": "execute_result",
          "data": {
            "text/plain": [
              "33.16326530612245"
            ]
          },
          "metadata": {
            "tags": []
          },
          "execution_count": 20
        }
      ]
    },
    {
      "cell_type": "markdown",
      "metadata": {
        "colab_type": "text",
        "id": "nbrjnRPafs0p"
      },
      "source": [
        "Print out the pressure and class (no other columns) for the first 5 people (hint: this was not shown in our tutorial google how to select multiple columns with loc)\n",
        "\n",
        "Being able to effectively google is a very important coding tool ¯\\\\\\_(ツ)_/¯"
      ]
    },
    {
      "cell_type": "code",
      "metadata": {
        "colab_type": "code",
        "id": "GiNCJ19KfHJQ",
        "colab": {
          "base_uri": "https://localhost:8080/",
          "height": 121
        },
        "outputId": "d1761102-e2ec-429e-9731-1d17369b4070"
      },
      "source": [
        "# your code here\n",
        "print(data.loc[0:4, 'pres': 'class': 6] )"
      ],
      "execution_count": 23,
      "outputs": [
        {
          "output_type": "stream",
          "text": [
            "   pres  class\n",
            "0  72.0      1\n",
            "1  66.0      0\n",
            "2  64.0      1\n",
            "3  66.0      0\n",
            "4  40.0      1\n"
          ],
          "name": "stdout"
        }
      ]
    },
    {
      "cell_type": "markdown",
      "metadata": {
        "colab_type": "text",
        "id": "O-CcsoqlhxUn"
      },
      "source": [
        "Run the cell below, it will print out the correlation among the columns"
      ]
    },
    {
      "cell_type": "code",
      "metadata": {
        "colab_type": "code",
        "id": "pXpVFt6MffQt",
        "colab": {
          "base_uri": "https://localhost:8080/",
          "height": 325
        },
        "outputId": "a9b1cd24-f07e-4dc5-da42-830ab2048156"
      },
      "source": [
        "data.corr()"
      ],
      "execution_count": 24,
      "outputs": [
        {
          "output_type": "execute_result",
          "data": {
            "text/html": [
              "<div>\n",
              "<style scoped>\n",
              "    .dataframe tbody tr th:only-of-type {\n",
              "        vertical-align: middle;\n",
              "    }\n",
              "\n",
              "    .dataframe tbody tr th {\n",
              "        vertical-align: top;\n",
              "    }\n",
              "\n",
              "    .dataframe thead th {\n",
              "        text-align: right;\n",
              "    }\n",
              "</style>\n",
              "<table border=\"1\" class=\"dataframe\">\n",
              "  <thead>\n",
              "    <tr style=\"text-align: right;\">\n",
              "      <th></th>\n",
              "      <th>preg</th>\n",
              "      <th>plas</th>\n",
              "      <th>pres</th>\n",
              "      <th>skin</th>\n",
              "      <th>test</th>\n",
              "      <th>mass</th>\n",
              "      <th>pedi</th>\n",
              "      <th>age</th>\n",
              "      <th>class</th>\n",
              "    </tr>\n",
              "  </thead>\n",
              "  <tbody>\n",
              "    <tr>\n",
              "      <th>preg</th>\n",
              "      <td>1.000000</td>\n",
              "      <td>0.128135</td>\n",
              "      <td>0.214178</td>\n",
              "      <td>0.100239</td>\n",
              "      <td>0.082171</td>\n",
              "      <td>0.021719</td>\n",
              "      <td>-0.033523</td>\n",
              "      <td>0.544341</td>\n",
              "      <td>0.221898</td>\n",
              "    </tr>\n",
              "    <tr>\n",
              "      <th>plas</th>\n",
              "      <td>0.128135</td>\n",
              "      <td>1.000000</td>\n",
              "      <td>0.223192</td>\n",
              "      <td>0.228043</td>\n",
              "      <td>0.581186</td>\n",
              "      <td>0.232771</td>\n",
              "      <td>0.137246</td>\n",
              "      <td>0.267136</td>\n",
              "      <td>0.494650</td>\n",
              "    </tr>\n",
              "    <tr>\n",
              "      <th>pres</th>\n",
              "      <td>0.214178</td>\n",
              "      <td>0.223192</td>\n",
              "      <td>1.000000</td>\n",
              "      <td>0.226839</td>\n",
              "      <td>0.098272</td>\n",
              "      <td>0.289230</td>\n",
              "      <td>-0.002805</td>\n",
              "      <td>0.330107</td>\n",
              "      <td>0.170589</td>\n",
              "    </tr>\n",
              "    <tr>\n",
              "      <th>skin</th>\n",
              "      <td>0.100239</td>\n",
              "      <td>0.228043</td>\n",
              "      <td>0.226839</td>\n",
              "      <td>1.000000</td>\n",
              "      <td>0.184888</td>\n",
              "      <td>0.648214</td>\n",
              "      <td>0.115016</td>\n",
              "      <td>0.166816</td>\n",
              "      <td>0.259491</td>\n",
              "    </tr>\n",
              "    <tr>\n",
              "      <th>test</th>\n",
              "      <td>0.082171</td>\n",
              "      <td>0.581186</td>\n",
              "      <td>0.098272</td>\n",
              "      <td>0.184888</td>\n",
              "      <td>1.000000</td>\n",
              "      <td>0.228050</td>\n",
              "      <td>0.130395</td>\n",
              "      <td>0.220261</td>\n",
              "      <td>0.303454</td>\n",
              "    </tr>\n",
              "    <tr>\n",
              "      <th>mass</th>\n",
              "      <td>0.021719</td>\n",
              "      <td>0.232771</td>\n",
              "      <td>0.289230</td>\n",
              "      <td>0.648214</td>\n",
              "      <td>0.228050</td>\n",
              "      <td>1.000000</td>\n",
              "      <td>0.155382</td>\n",
              "      <td>0.025841</td>\n",
              "      <td>0.313680</td>\n",
              "    </tr>\n",
              "    <tr>\n",
              "      <th>pedi</th>\n",
              "      <td>-0.033523</td>\n",
              "      <td>0.137246</td>\n",
              "      <td>-0.002805</td>\n",
              "      <td>0.115016</td>\n",
              "      <td>0.130395</td>\n",
              "      <td>0.155382</td>\n",
              "      <td>1.000000</td>\n",
              "      <td>0.033561</td>\n",
              "      <td>0.173844</td>\n",
              "    </tr>\n",
              "    <tr>\n",
              "      <th>age</th>\n",
              "      <td>0.544341</td>\n",
              "      <td>0.267136</td>\n",
              "      <td>0.330107</td>\n",
              "      <td>0.166816</td>\n",
              "      <td>0.220261</td>\n",
              "      <td>0.025841</td>\n",
              "      <td>0.033561</td>\n",
              "      <td>1.000000</td>\n",
              "      <td>0.238356</td>\n",
              "    </tr>\n",
              "    <tr>\n",
              "      <th>class</th>\n",
              "      <td>0.221898</td>\n",
              "      <td>0.494650</td>\n",
              "      <td>0.170589</td>\n",
              "      <td>0.259491</td>\n",
              "      <td>0.303454</td>\n",
              "      <td>0.313680</td>\n",
              "      <td>0.173844</td>\n",
              "      <td>0.238356</td>\n",
              "      <td>1.000000</td>\n",
              "    </tr>\n",
              "  </tbody>\n",
              "</table>\n",
              "</div>"
            ],
            "text/plain": [
              "           preg      plas      pres  ...      pedi       age     class\n",
              "preg   1.000000  0.128135  0.214178  ... -0.033523  0.544341  0.221898\n",
              "plas   0.128135  1.000000  0.223192  ...  0.137246  0.267136  0.494650\n",
              "pres   0.214178  0.223192  1.000000  ... -0.002805  0.330107  0.170589\n",
              "skin   0.100239  0.228043  0.226839  ...  0.115016  0.166816  0.259491\n",
              "test   0.082171  0.581186  0.098272  ...  0.130395  0.220261  0.303454\n",
              "mass   0.021719  0.232771  0.289230  ...  0.155382  0.025841  0.313680\n",
              "pedi  -0.033523  0.137246 -0.002805  ...  1.000000  0.033561  0.173844\n",
              "age    0.544341  0.267136  0.330107  ...  0.033561  1.000000  0.238356\n",
              "class  0.221898  0.494650  0.170589  ...  0.173844  0.238356  1.000000\n",
              "\n",
              "[9 rows x 9 columns]"
            ]
          },
          "metadata": {
            "tags": []
          },
          "execution_count": 24
        }
      ]
    },
    {
      "cell_type": "markdown",
      "metadata": {
        "colab_type": "text",
        "id": "P_7xRF11h4Uf"
      },
      "source": [
        "What column has the highest correlation with class? Find the mean() value of that column"
      ]
    },
    {
      "cell_type": "code",
      "metadata": {
        "colab_type": "code",
        "id": "clb2Gh8Mn9d4",
        "colab": {}
      },
      "source": [
        "# your code here\n"
      ],
      "execution_count": null,
      "outputs": []
    },
    {
      "cell_type": "markdown",
      "metadata": {
        "colab_type": "text",
        "id": "64yWhAARoWw-"
      },
      "source": [
        "Create a new dataframe with only people that are above the mean found above"
      ]
    },
    {
      "cell_type": "code",
      "metadata": {
        "colab_type": "code",
        "id": "HRLjs3agkdPY",
        "colab": {}
      },
      "source": [
        "# your code here"
      ],
      "execution_count": null,
      "outputs": []
    },
    {
      "cell_type": "markdown",
      "metadata": {
        "colab_type": "text",
        "id": "RxGIQp0JrUnq"
      },
      "source": [
        "Create a new dataframe that only includes people who are above the average value for each column in the dataset (except 'class'). In other words, find the average value for each column, and then find which users have values above all of these average column values"
      ]
    },
    {
      "cell_type": "code",
      "metadata": {
        "colab_type": "code",
        "id": "Ylf4p6NNrfME",
        "colab": {}
      },
      "source": [
        "# write code here"
      ],
      "execution_count": null,
      "outputs": []
    },
    {
      "cell_type": "markdown",
      "metadata": {
        "colab_type": "text",
        "id": "24pCgP2xbCwZ"
      },
      "source": [
        "Ignoring the index (resetting the index to 0), sort the values based on \"skin\", \"test\", and \"pedi\" values in ascending order. Please write this in one line."
      ]
    },
    {
      "cell_type": "code",
      "metadata": {
        "colab_type": "code",
        "id": "wXZysbVwa7i5",
        "colab": {}
      },
      "source": [
        "# write code here          "
      ],
      "execution_count": null,
      "outputs": []
    },
    {
      "cell_type": "markdown",
      "metadata": {
        "colab_type": "text",
        "id": "hUs7viD6gSPT"
      },
      "source": [
        "Notice that there are some repeats in values (like in the age and the preg column). "
      ]
    },
    {
      "cell_type": "code",
      "metadata": {
        "colab_type": "code",
        "id": "Rf2qeUWlfbEO",
        "colab": {}
      },
      "source": [
        ""
      ],
      "execution_count": null,
      "outputs": []
    },
    {
      "cell_type": "markdown",
      "metadata": {
        "colab_type": "text",
        "id": "BIJkXsK4ch-u"
      },
      "source": [
        "Now Let's find the 4 largest values for \"age\" and \"mass\". Reference the pandas documentation (https://pandas.pydata.org/docs/) if you are stuck!"
      ]
    },
    {
      "cell_type": "code",
      "metadata": {
        "colab_type": "code",
        "id": "kSl28jLLdAF9",
        "colab": {}
      },
      "source": [
        "# write code here"
      ],
      "execution_count": null,
      "outputs": []
    },
    {
      "cell_type": "markdown",
      "metadata": {
        "colab_type": "text",
        "id": "fJRwe8UfqvNG"
      },
      "source": [
        "Now find the smallest 4 values for \"plas\" and \"preg\" in reverse order (largest to smallest). Please refer to the API documentation if you are stuck-- https://pandas.pydata.org/pandas-docs/stable/reference/index.html"
      ]
    },
    {
      "cell_type": "code",
      "metadata": {
        "colab_type": "code",
        "id": "icQcbPg1quNI",
        "colab": {}
      },
      "source": [
        "#write code here"
      ],
      "execution_count": null,
      "outputs": []
    }
  ]
}