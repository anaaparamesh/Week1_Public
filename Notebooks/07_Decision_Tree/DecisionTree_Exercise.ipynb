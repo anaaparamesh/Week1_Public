{
  "nbformat": 4,
  "nbformat_minor": 0,
  "metadata": {
    "colab": {
      "name": "DecisionTreeWorksheetStudent",
      "provenance": [],
      "collapsed_sections": [],
      "include_colab_link": true
    },
    "kernelspec": {
      "display_name": "Python 3",
      "language": "python",
      "name": "python3"
    },
    "language_info": {
      "codemirror_mode": {
        "name": "ipython",
        "version": 3
      },
      "file_extension": ".py",
      "mimetype": "text/x-python",
      "name": "python",
      "nbconvert_exporter": "python",
      "pygments_lexer": "ipython3",
      "version": "3.7.3"
    }
  },
  "cells": [
    {
      "cell_type": "markdown",
      "metadata": {
        "id": "view-in-github",
        "colab_type": "text"
      },
      "source": [
        "<a href=\"https://colab.research.google.com/github/anaaparamesh/Week1_Public/blob/master/Notebooks/07_Decision_Tree/DecisionTree_Exercise.ipynb\" target=\"_parent\"><img src=\"https://colab.research.google.com/assets/colab-badge.svg\" alt=\"Open In Colab\"/></a>"
      ]
    },
    {
      "cell_type": "markdown",
      "metadata": {
        "colab_type": "text",
        "id": "-UimMCmGe19F"
      },
      "source": [
        "# Decision Tree Worksheet"
      ]
    },
    {
      "cell_type": "code",
      "metadata": {
        "colab_type": "code",
        "id": "kedW02LgKjVL",
        "colab": {}
      },
      "source": [
        "import numpy as np\n",
        "import pandas as pd\n",
        "from sklearn.model_selection import train_test_split\n",
        "from sklearn.tree import DecisionTreeClassifier\n",
        "from sklearn.metrics import accuracy_score\n",
        "from sklearn import tree\n",
        "from sklearn.ensemble import RandomForestClassifier\n",
        "from sklearn import metrics\n",
        "import graphviz\n",
        "import matplotlib.pyplot as plt"
      ],
      "execution_count": 5,
      "outputs": []
    },
    {
      "cell_type": "markdown",
      "metadata": {
        "colab_type": "text",
        "id": "rz35eT5-SMht"
      },
      "source": [
        "## Loading data\n",
        "\n",
        "Load Pima diabetes dataset and split data, with test size 20% and validaton 20%."
      ]
    },
    {
      "cell_type": "code",
      "metadata": {
        "colab_type": "code",
        "id": "Ydh9gmDkMGmu",
        "colab": {}
      },
      "source": [
        "url = \"https://raw.githubusercontent.com/jbrownlee/Datasets/master/pima-indians-diabetes.data.csv\"\n",
        "names = ['preg', 'plas', 'pres', 'skin', 'test', 'mass', 'pedi', 'age', 'class']\n",
        "\n",
        "data = pd.read_csv(url, names=names)\n",
        "\n",
        "# -- dropping NaN rows -- #\n",
        "invalid = ['plas', 'pres', 'skin', 'test', 'mass']\n",
        "\n",
        "for i in invalid:\n",
        "    data[i].replace(to_replace=0, value=np.nan, inplace=True)\n",
        "    \n",
        "data = data.dropna(axis=0).reset_index(drop=True)\n",
        "\n",
        "\n",
        "## YOUR CODE HERE\n",
        "# 80-20 train-test split of datset\n",
        "X_cols = ['preg', 'plas', 'pres', 'skin', 'test', 'mass', 'pedi', 'age']\n",
        "y_col = 'class'\n",
        "\n",
        "test_size = 0.2\n",
        "X_train, X_test, y_train, y_test = train_test_split(data[X_cols], data[y_col], test_size=test_size, random_state=0)\n",
        "\n",
        "# further split X and y of training nto training and validation sets\n",
        "X_train, X_val, y_train, y_val = train_test_split(X_train, y_train, test_size=test_size, random_state=0)"
      ],
      "execution_count": 6,
      "outputs": []
    },
    {
      "cell_type": "markdown",
      "metadata": {
        "colab_type": "text",
        "id": "KAFhsJIsSpMR"
      },
      "source": [
        "## Creating Model\n",
        "\n",
        "Make a model using sklearn's DecisionTreeClassifier, with a high max-depth and low minimum sample leafs."
      ]
    },
    {
      "cell_type": "code",
      "metadata": {
        "colab_type": "code",
        "id": "fHbA28aFS2DM",
        "colab": {
          "base_uri": "https://localhost:8080/",
          "height": 121
        },
        "outputId": "b7349860-47bd-43e1-e9f2-fa5d11f7d971"
      },
      "source": [
        "## YOUR CODE HERE\n",
        "decision_tree = DecisionTreeClassifier(criterion = \"entropy\", random_state = None,\n",
        "                              max_depth=20, min_samples_leaf=2)  # minimum sample leafs is the minimum sample \n",
        "                                                                # amount the leaf can have\n",
        "# training/fitting the model with training data\n",
        "decision_tree.fit(X_train, y_train)"
      ],
      "execution_count": 7,
      "outputs": [
        {
          "output_type": "execute_result",
          "data": {
            "text/plain": [
              "DecisionTreeClassifier(ccp_alpha=0.0, class_weight=None, criterion='entropy',\n",
              "                       max_depth=20, max_features=None, max_leaf_nodes=None,\n",
              "                       min_impurity_decrease=0.0, min_impurity_split=None,\n",
              "                       min_samples_leaf=2, min_samples_split=2,\n",
              "                       min_weight_fraction_leaf=0.0, presort='deprecated',\n",
              "                       random_state=None, splitter='best')"
            ]
          },
          "metadata": {
            "tags": []
          },
          "execution_count": 7
        }
      ]
    },
    {
      "cell_type": "markdown",
      "metadata": {
        "colab_type": "text",
        "id": "4_8DZinWTJRa"
      },
      "source": [
        "Print accuracy of training and validation data."
      ]
    },
    {
      "cell_type": "code",
      "metadata": {
        "colab_type": "code",
        "id": "EgByCP_EhyB2",
        "colab": {
          "base_uri": "https://localhost:8080/",
          "height": 52
        },
        "outputId": "3857e9c3-9684-43be-c82f-723f7f0296c2"
      },
      "source": [
        "## YOUR CODE HERE\n",
        "y_train_pred=decision_tree.predict(X_train)\n",
        "print(\"Training Accuracy is \", accuracy_score(y_train, y_train_pred)*100)\n",
        "y_val_pred=decision_tree.predict(X_val)\n",
        "print(\"Validation Accuracy is \", accuracy_score(y_val,y_val_pred)*100)"
      ],
      "execution_count": 8,
      "outputs": [
        {
          "output_type": "stream",
          "text": [
            "Training Accuracy is  96.0\n",
            "Validation Accuracy is  79.36507936507937\n"
          ],
          "name": "stdout"
        }
      ]
    },
    {
      "cell_type": "markdown",
      "metadata": {
        "colab_type": "text",
        "id": "6HNa6fxbT6ak"
      },
      "source": [
        "Make a model with a low max-depth and higher minimum sample leafs."
      ]
    },
    {
      "cell_type": "code",
      "metadata": {
        "colab_type": "code",
        "id": "6Pbu-t_tiqnB",
        "colab": {
          "base_uri": "https://localhost:8080/",
          "height": 121
        },
        "outputId": "2f10466e-c018-43d9-90a0-7640baef1cb1"
      },
      "source": [
        "## YOUR CODE HERE\n",
        "decision_tree = DecisionTreeClassifier(criterion = \"entropy\", random_state = None,\n",
        "                              max_depth=3, min_samples_leaf=20)\n",
        "# training/fitting the model with training data\n",
        "decision_tree.fit(X_train, y_train)"
      ],
      "execution_count": 10,
      "outputs": [
        {
          "output_type": "execute_result",
          "data": {
            "text/plain": [
              "DecisionTreeClassifier(ccp_alpha=0.0, class_weight=None, criterion='entropy',\n",
              "                       max_depth=3, max_features=None, max_leaf_nodes=None,\n",
              "                       min_impurity_decrease=0.0, min_impurity_split=None,\n",
              "                       min_samples_leaf=20, min_samples_split=2,\n",
              "                       min_weight_fraction_leaf=0.0, presort='deprecated',\n",
              "                       random_state=None, splitter='best')"
            ]
          },
          "metadata": {
            "tags": []
          },
          "execution_count": 10
        }
      ]
    },
    {
      "cell_type": "markdown",
      "metadata": {
        "id": "_4sGw47li7JX",
        "colab_type": "text"
      },
      "source": [
        "Print accuracy of training and validation data."
      ]
    },
    {
      "cell_type": "code",
      "metadata": {
        "id": "JiECOkBsi7JZ",
        "colab_type": "code",
        "colab": {
          "base_uri": "https://localhost:8080/",
          "height": 52
        },
        "outputId": "065db7ee-bfe5-46ca-90d3-13821c02b466"
      },
      "source": [
        "## YOUR CODE HERE\n",
        "y_train_pred=decision_tree.predict(X_train)\n",
        "print(\"Training Accuracy is \", accuracy_score(y_train, y_train_pred)*100)\n",
        "y_val_pred=decision_tree.predict(X_val)\n",
        "print(\"Validation Accuracy is \", accuracy_score(y_val,y_val_pred)*100)"
      ],
      "execution_count": 11,
      "outputs": [
        {
          "output_type": "stream",
          "text": [
            "Training Accuracy is  80.4\n",
            "Validation Accuracy is  74.60317460317461\n"
          ],
          "name": "stdout"
        }
      ]
    },
    {
      "cell_type": "markdown",
      "metadata": {
        "id": "I-kP7msPi7Jh",
        "colab_type": "text"
      },
      "source": [
        "Explain the accuracy results below. \n",
        "\n",
        "(YOUR ANSWER HERE)\n",
        "high max-depth and low minimum sample leafs resulted in overfitting. Low max-depth and high minimum sample leafs did not result in overfitting  "
      ]
    },
    {
      "cell_type": "markdown",
      "metadata": {
        "id": "zA4TO1umi7Ji",
        "colab_type": "text"
      },
      "source": [
        "## Metrics"
      ]
    },
    {
      "cell_type": "markdown",
      "metadata": {
        "id": "JP13nBHli7Jj",
        "colab_type": "text"
      },
      "source": [
        "Plot the ROC curve and print the AUC of the second model."
      ]
    },
    {
      "cell_type": "code",
      "metadata": {
        "id": "LIsRMZUGi7Jk",
        "colab_type": "code",
        "colab": {
          "base_uri": "https://localhost:8080/",
          "height": 491
        },
        "outputId": "62b78189-dbfe-45d7-8335-e647c6953a75"
      },
      "source": [
        "#Have to find probability to be able to graph roc curve.\n",
        "labels = [0,1]\n",
        "y_val_prob = decision_tree.predict_proba(X_val,labels)\n",
        "\n",
        "# Output predicted and true values for the first validation point\n",
        "print('Probabilities:\\n',y_val_prob[0])\n",
        "print('\\nTrue Value:\\n',y_val.values[0])\n",
        "# Calculate the FPR and TPR at varying thresholds (assume label 1 is the \"postive\" class)\n",
        "fpr, tpr, thresholds = metrics.roc_curve(y_val, y_val_prob[:,1])\n",
        "\n",
        "# Calculate the area under the ROC curve\n",
        "roc_auc = metrics.auc(fpr, tpr)\n",
        "\n",
        "plt.figure(figsize=(6,6))\n",
        "lw = 2\n",
        "plt.plot(fpr, tpr, color='darkorange',\n",
        "         lw=lw, label='ROC curve (area = %0.2f)' % roc_auc)\n",
        "plt.plot([0, 1], [0, 1], color='navy', lw=lw, linestyle='--')\n",
        "plt.xlim([0.0, 1.0])\n",
        "plt.ylim([0.0, 1.0])\n",
        "plt.xlabel('False Positive Rate')\n",
        "plt.ylabel('True Positive Rate')\n",
        "plt.title('Receiver operating characteristic')\n",
        "plt.legend(loc=\"lower right\")\n",
        "plt.show()"
      ],
      "execution_count": 16,
      "outputs": [
        {
          "output_type": "stream",
          "text": [
            "Probabilities:\n",
            " [0.34782609 0.65217391]\n",
            "\n",
            "True Value:\n",
            " 1\n"
          ],
          "name": "stdout"
        },
        {
          "output_type": "display_data",
          "data": {
            "image/png": "[encoded data removed]",
            "text/plain": [
              "<Figure size 432x432 with 1 Axes>"
            ]
          },
          "metadata": {
            "tags": [],
            "needs_background": "light"
          }
        }
      ]
    },
    {
      "cell_type": "markdown",
      "metadata": {
        "colab_type": "text",
        "id": "tKdqOMBKUvGZ"
      },
      "source": [
        "Use graphviz to visualize your 2nd tree."
      ]
    },
    {
      "cell_type": "code",
      "metadata": {
        "colab_type": "code",
        "id": "8o55bY_jl8gj",
        "colab": {
          "base_uri": "https://localhost:8080/",
          "height": 519
        },
        "outputId": "6436e649-d9d2-4282-a642-c46a987a8fa9"
      },
      "source": [
        "## YOUR CODE HERE\n",
        "dot_data = tree.export_graphviz(decision_tree, out_file=None, filled=True)\n",
        "\n",
        "graph = graphviz.Source(dot_data)\n",
        "graph"
      ],
      "execution_count": 17,
      "outputs": [
        {
          "output_type": "execute_result",
          "data": {
            "text/plain": [
              "<graphviz.files.Source at 0x7fe1a7574940>"
            ],
            "image/svg+xml": "<?xml version=\"1.0\" encoding=\"UTF-8\" standalone=\"no\"?>\n<!DOCTYPE svg PUBLIC \"-//W3C//DTD SVG 1.1//EN\"\n \"http://www.w3.org/Graphics/SVG/1.1/DTD/svg11.dtd\">\n<!-- Generated by graphviz version 2.40.1 (20161225.0304)\n -->\n<!-- Title: Tree Pages: 1 -->\n<svg width=\"752pt\" height=\"373pt\"\n viewBox=\"0.00 0.00 752.00 373.00\" xmlns=\"http://www.w3.org/2000/svg\" xmlns:xlink=\"http://www.w3.org/1999/xlink\">\n<g id=\"graph0\" class=\"graph\" transform=\"scale(1 1) rotate(0) translate(4 369)\">\n<title>Tree</title>\n<polygon fill=\"#ffffff\" stroke=\"transparent\" points=\"-4,4 -4,-369 748,-369 748,4 -4,4\"/>\n<!-- 0 -->\n<g id=\"node1\" class=\"node\">\n<title>0</title>\n<polygon fill=\"#f2be9a\" stroke=\"#000000\" points=\"426.5,-365 309.5,-365 309.5,-297 426.5,-297 426.5,-365\"/>\n<text text-anchor=\"middle\" x=\"368\" y=\"-349.8\" font-family=\"Times,serif\" font-size=\"14.00\" fill=\"#000000\">X[1] &lt;= 127.5</text>\n<text text-anchor=\"middle\" x=\"368\" y=\"-334.8\" font-family=\"Times,serif\" font-size=\"14.00\" fill=\"#000000\">entropy = 0.913</text>\n<text text-anchor=\"middle\" x=\"368\" y=\"-319.8\" font-family=\"Times,serif\" font-size=\"14.00\" fill=\"#000000\">samples = 250</text>\n<text text-anchor=\"middle\" x=\"368\" y=\"-304.8\" font-family=\"Times,serif\" font-size=\"14.00\" fill=\"#000000\">value = [168, 82]</text>\n</g>\n<!-- 1 -->\n<g id=\"node2\" class=\"node\">\n<title>1</title>\n<polygon fill=\"#e9965a\" stroke=\"#000000\" points=\"360.5,-261 243.5,-261 243.5,-193 360.5,-193 360.5,-261\"/>\n<text text-anchor=\"middle\" x=\"302\" y=\"-245.8\" font-family=\"Times,serif\" font-size=\"14.00\" fill=\"#000000\">X[6] &lt;= 0.677</text>\n<text text-anchor=\"middle\" x=\"302\" y=\"-230.8\" font-family=\"Times,serif\" font-size=\"14.00\" fill=\"#000000\">entropy = 0.589</text>\n<text text-anchor=\"middle\" x=\"302\" y=\"-215.8\" font-family=\"Times,serif\" font-size=\"14.00\" fill=\"#000000\">samples = 155</text>\n<text text-anchor=\"middle\" x=\"302\" y=\"-200.8\" font-family=\"Times,serif\" font-size=\"14.00\" fill=\"#000000\">value = [133, 22]</text>\n</g>\n<!-- 0&#45;&gt;1 -->\n<g id=\"edge1\" class=\"edge\">\n<title>0&#45;&gt;1</title>\n<path fill=\"none\" stroke=\"#000000\" d=\"M346.3891,-296.9465C340.8622,-288.2373 334.8494,-278.7626 329.0854,-269.6801\"/>\n<polygon fill=\"#000000\" stroke=\"#000000\" points=\"331.9729,-267.6979 323.6594,-261.13 326.0626,-271.4487 331.9729,-267.6979\"/>\n<text text-anchor=\"middle\" x=\"318.2058\" y=\"-281.8279\" font-family=\"Times,serif\" font-size=\"14.00\" fill=\"#000000\">True</text>\n</g>\n<!-- 8 -->\n<g id=\"node9\" class=\"node\">\n<title>8</title>\n<polygon fill=\"#acd6f4\" stroke=\"#000000\" points=\"489,-261 379,-261 379,-193 489,-193 489,-261\"/>\n<text text-anchor=\"middle\" x=\"434\" y=\"-245.8\" font-family=\"Times,serif\" font-size=\"14.00\" fill=\"#000000\">X[5] &lt;= 29.7</text>\n<text text-anchor=\"middle\" x=\"434\" y=\"-230.8\" font-family=\"Times,serif\" font-size=\"14.00\" fill=\"#000000\">entropy = 0.949</text>\n<text text-anchor=\"middle\" x=\"434\" y=\"-215.8\" font-family=\"Times,serif\" font-size=\"14.00\" fill=\"#000000\">samples = 95</text>\n<text text-anchor=\"middle\" x=\"434\" y=\"-200.8\" font-family=\"Times,serif\" font-size=\"14.00\" fill=\"#000000\">value = [35, 60]</text>\n</g>\n<!-- 0&#45;&gt;8 -->\n<g id=\"edge8\" class=\"edge\">\n<title>0&#45;&gt;8</title>\n<path fill=\"none\" stroke=\"#000000\" d=\"M389.6109,-296.9465C395.1378,-288.2373 401.1506,-278.7626 406.9146,-269.6801\"/>\n<polygon fill=\"#000000\" stroke=\"#000000\" points=\"409.9374,-271.4487 412.3406,-261.13 404.0271,-267.6979 409.9374,-271.4487\"/>\n<text text-anchor=\"middle\" x=\"417.7942\" y=\"-281.8279\" font-family=\"Times,serif\" font-size=\"14.00\" fill=\"#000000\">False</text>\n</g>\n<!-- 2 -->\n<g id=\"node3\" class=\"node\">\n<title>2</title>\n<polygon fill=\"#e78a46\" stroke=\"#000000\" points=\"230,-157 120,-157 120,-89 230,-89 230,-157\"/>\n<text text-anchor=\"middle\" x=\"175\" y=\"-141.8\" font-family=\"Times,serif\" font-size=\"14.00\" fill=\"#000000\">X[5] &lt;= 30.95</text>\n<text text-anchor=\"middle\" x=\"175\" y=\"-126.8\" font-family=\"Times,serif\" font-size=\"14.00\" fill=\"#000000\">entropy = 0.342</text>\n<text text-anchor=\"middle\" x=\"175\" y=\"-111.8\" font-family=\"Times,serif\" font-size=\"14.00\" fill=\"#000000\">samples = 110</text>\n<text text-anchor=\"middle\" x=\"175\" y=\"-96.8\" font-family=\"Times,serif\" font-size=\"14.00\" fill=\"#000000\">value = [103, 7]</text>\n</g>\n<!-- 1&#45;&gt;2 -->\n<g id=\"edge2\" class=\"edge\">\n<title>1&#45;&gt;2</title>\n<path fill=\"none\" stroke=\"#000000\" d=\"M260.4155,-192.9465C249.0127,-183.6088 236.5353,-173.3911 224.7257,-163.7203\"/>\n<polygon fill=\"#000000\" stroke=\"#000000\" points=\"226.6324,-160.7578 216.678,-157.13 222.1974,-166.1736 226.6324,-160.7578\"/>\n</g>\n<!-- 5 -->\n<g id=\"node6\" class=\"node\">\n<title>5</title>\n<polygon fill=\"#f2c09c\" stroke=\"#000000\" points=\"358,-157 248,-157 248,-89 358,-89 358,-157\"/>\n<text text-anchor=\"middle\" x=\"303\" y=\"-141.8\" font-family=\"Times,serif\" font-size=\"14.00\" fill=\"#000000\">X[0] &lt;= 2.5</text>\n<text text-anchor=\"middle\" x=\"303\" y=\"-126.8\" font-family=\"Times,serif\" font-size=\"14.00\" fill=\"#000000\">entropy = 0.918</text>\n<text text-anchor=\"middle\" x=\"303\" y=\"-111.8\" font-family=\"Times,serif\" font-size=\"14.00\" fill=\"#000000\">samples = 45</text>\n<text text-anchor=\"middle\" x=\"303\" y=\"-96.8\" font-family=\"Times,serif\" font-size=\"14.00\" fill=\"#000000\">value = [30, 15]</text>\n</g>\n<!-- 1&#45;&gt;5 -->\n<g id=\"edge5\" class=\"edge\">\n<title>1&#45;&gt;5</title>\n<path fill=\"none\" stroke=\"#000000\" d=\"M302.3274,-192.9465C302.406,-184.776 302.491,-175.9318 302.5734,-167.3697\"/>\n<polygon fill=\"#000000\" stroke=\"#000000\" points=\"306.0754,-167.1632 302.6718,-157.13 299.0757,-167.0958 306.0754,-167.1632\"/>\n</g>\n<!-- 3 -->\n<g id=\"node4\" class=\"node\">\n<title>3</title>\n<polygon fill=\"#e58139\" stroke=\"#000000\" points=\"102,-53 0,-53 0,0 102,0 102,-53\"/>\n<text text-anchor=\"middle\" x=\"51\" y=\"-37.8\" font-family=\"Times,serif\" font-size=\"14.00\" fill=\"#000000\">entropy = 0.0</text>\n<text text-anchor=\"middle\" x=\"51\" y=\"-22.8\" font-family=\"Times,serif\" font-size=\"14.00\" fill=\"#000000\">samples = 45</text>\n<text text-anchor=\"middle\" x=\"51\" y=\"-7.8\" font-family=\"Times,serif\" font-size=\"14.00\" fill=\"#000000\">value = [45, 0]</text>\n</g>\n<!-- 2&#45;&gt;3 -->\n<g id=\"edge3\" class=\"edge\">\n<title>2&#45;&gt;3</title>\n<path fill=\"none\" stroke=\"#000000\" d=\"M131.2822,-88.9777C119.0451,-79.4545 105.7645,-69.1191 93.5934,-59.6473\"/>\n<polygon fill=\"#000000\" stroke=\"#000000\" points=\"95.4125,-56.628 85.3711,-53.2485 91.1134,-62.1523 95.4125,-56.628\"/>\n</g>\n<!-- 4 -->\n<g id=\"node5\" class=\"node\">\n<title>4</title>\n<polygon fill=\"#e89051\" stroke=\"#000000\" points=\"230,-53 120,-53 120,0 230,0 230,-53\"/>\n<text text-anchor=\"middle\" x=\"175\" y=\"-37.8\" font-family=\"Times,serif\" font-size=\"14.00\" fill=\"#000000\">entropy = 0.493</text>\n<text text-anchor=\"middle\" x=\"175\" y=\"-22.8\" font-family=\"Times,serif\" font-size=\"14.00\" fill=\"#000000\">samples = 65</text>\n<text text-anchor=\"middle\" x=\"175\" y=\"-7.8\" font-family=\"Times,serif\" font-size=\"14.00\" fill=\"#000000\">value = [58, 7]</text>\n</g>\n<!-- 2&#45;&gt;4 -->\n<g id=\"edge4\" class=\"edge\">\n<title>2&#45;&gt;4</title>\n<path fill=\"none\" stroke=\"#000000\" d=\"M175,-88.9777C175,-80.7364 175,-71.887 175,-63.5153\"/>\n<polygon fill=\"#000000\" stroke=\"#000000\" points=\"178.5001,-63.2484 175,-53.2485 171.5001,-63.2485 178.5001,-63.2484\"/>\n</g>\n<!-- 6 -->\n<g id=\"node7\" class=\"node\">\n<title>6</title>\n<polygon fill=\"#eca26d\" stroke=\"#000000\" points=\"358,-53 248,-53 248,0 358,0 358,-53\"/>\n<text text-anchor=\"middle\" x=\"303\" y=\"-37.8\" font-family=\"Times,serif\" font-size=\"14.00\" fill=\"#000000\">entropy = 0.738</text>\n<text text-anchor=\"middle\" x=\"303\" y=\"-22.8\" font-family=\"Times,serif\" font-size=\"14.00\" fill=\"#000000\">samples = 24</text>\n<text text-anchor=\"middle\" x=\"303\" y=\"-7.8\" font-family=\"Times,serif\" font-size=\"14.00\" fill=\"#000000\">value = [19, 5]</text>\n</g>\n<!-- 5&#45;&gt;6 -->\n<g id=\"edge6\" class=\"edge\">\n<title>5&#45;&gt;6</title>\n<path fill=\"none\" stroke=\"#000000\" d=\"M303,-88.9777C303,-80.7364 303,-71.887 303,-63.5153\"/>\n<polygon fill=\"#000000\" stroke=\"#000000\" points=\"306.5001,-63.2484 303,-53.2485 299.5001,-63.2485 306.5001,-63.2484\"/>\n</g>\n<!-- 7 -->\n<g id=\"node8\" class=\"node\">\n<title>7</title>\n<polygon fill=\"#fdf4ed\" stroke=\"#000000\" points=\"486,-53 376,-53 376,0 486,0 486,-53\"/>\n<text text-anchor=\"middle\" x=\"431\" y=\"-37.8\" font-family=\"Times,serif\" font-size=\"14.00\" fill=\"#000000\">entropy = 0.998</text>\n<text text-anchor=\"middle\" x=\"431\" y=\"-22.8\" font-family=\"Times,serif\" font-size=\"14.00\" fill=\"#000000\">samples = 21</text>\n<text text-anchor=\"middle\" x=\"431\" y=\"-7.8\" font-family=\"Times,serif\" font-size=\"14.00\" fill=\"#000000\">value = [11, 10]</text>\n</g>\n<!-- 5&#45;&gt;7 -->\n<g id=\"edge7\" class=\"edge\">\n<title>5&#45;&gt;7</title>\n<path fill=\"none\" stroke=\"#000000\" d=\"M348.128,-88.9777C360.8813,-79.3629 374.7327,-68.9203 387.3947,-59.3743\"/>\n<polygon fill=\"#000000\" stroke=\"#000000\" points=\"389.6421,-62.0632 395.5202,-53.2485 385.4281,-56.4737 389.6421,-62.0632\"/>\n</g>\n<!-- 9 -->\n<g id=\"node10\" class=\"node\">\n<title>9</title>\n<polygon fill=\"#f1bc95\" stroke=\"#000000\" points=\"488,-149.5 378,-149.5 378,-96.5 488,-96.5 488,-149.5\"/>\n<text text-anchor=\"middle\" x=\"433\" y=\"-134.3\" font-family=\"Times,serif\" font-size=\"14.00\" fill=\"#000000\">entropy = 0.902</text>\n<text text-anchor=\"middle\" x=\"433\" y=\"-119.3\" font-family=\"Times,serif\" font-size=\"14.00\" fill=\"#000000\">samples = 22</text>\n<text text-anchor=\"middle\" x=\"433\" y=\"-104.3\" font-family=\"Times,serif\" font-size=\"14.00\" fill=\"#000000\">value = [15, 7]</text>\n</g>\n<!-- 8&#45;&gt;9 -->\n<g id=\"edge9\" class=\"edge\">\n<title>8&#45;&gt;9</title>\n<path fill=\"none\" stroke=\"#000000\" d=\"M433.6726,-192.9465C433.5698,-182.2621 433.456,-170.4254 433.3517,-159.5742\"/>\n<polygon fill=\"#000000\" stroke=\"#000000\" points=\"436.8513,-159.508 433.2552,-149.5422 429.8516,-159.5754 436.8513,-159.508\"/>\n</g>\n<!-- 10 -->\n<g id=\"node11\" class=\"node\">\n<title>10</title>\n<polygon fill=\"#84c2ef\" stroke=\"#000000\" points=\"616,-157 506,-157 506,-89 616,-89 616,-157\"/>\n<text text-anchor=\"middle\" x=\"561\" y=\"-141.8\" font-family=\"Times,serif\" font-size=\"14.00\" fill=\"#000000\">X[1] &lt;= 167.0</text>\n<text text-anchor=\"middle\" x=\"561\" y=\"-126.8\" font-family=\"Times,serif\" font-size=\"14.00\" fill=\"#000000\">entropy = 0.847</text>\n<text text-anchor=\"middle\" x=\"561\" y=\"-111.8\" font-family=\"Times,serif\" font-size=\"14.00\" fill=\"#000000\">samples = 73</text>\n<text text-anchor=\"middle\" x=\"561\" y=\"-96.8\" font-family=\"Times,serif\" font-size=\"14.00\" fill=\"#000000\">value = [20, 53]</text>\n</g>\n<!-- 8&#45;&gt;10 -->\n<g id=\"edge10\" class=\"edge\">\n<title>8&#45;&gt;10</title>\n<path fill=\"none\" stroke=\"#000000\" d=\"M475.5845,-192.9465C486.9873,-183.6088 499.4647,-173.3911 511.2743,-163.7203\"/>\n<polygon fill=\"#000000\" stroke=\"#000000\" points=\"513.8026,-166.1736 519.322,-157.13 509.3676,-160.7578 513.8026,-166.1736\"/>\n</g>\n<!-- 11 -->\n<g id=\"node12\" class=\"node\">\n<title>11</title>\n<polygon fill=\"#a3d1f3\" stroke=\"#000000\" points=\"616,-53 506,-53 506,0 616,0 616,-53\"/>\n<text text-anchor=\"middle\" x=\"561\" y=\"-37.8\" font-family=\"Times,serif\" font-size=\"14.00\" fill=\"#000000\">entropy = 0.932</text>\n<text text-anchor=\"middle\" x=\"561\" y=\"-22.8\" font-family=\"Times,serif\" font-size=\"14.00\" fill=\"#000000\">samples = 46</text>\n<text text-anchor=\"middle\" x=\"561\" y=\"-7.8\" font-family=\"Times,serif\" font-size=\"14.00\" fill=\"#000000\">value = [16, 30]</text>\n</g>\n<!-- 10&#45;&gt;11 -->\n<g id=\"edge11\" class=\"edge\">\n<title>10&#45;&gt;11</title>\n<path fill=\"none\" stroke=\"#000000\" d=\"M561,-88.9777C561,-80.7364 561,-71.887 561,-63.5153\"/>\n<polygon fill=\"#000000\" stroke=\"#000000\" points=\"564.5001,-63.2484 561,-53.2485 557.5001,-63.2485 564.5001,-63.2484\"/>\n</g>\n<!-- 12 -->\n<g id=\"node13\" class=\"node\">\n<title>12</title>\n<polygon fill=\"#5baeea\" stroke=\"#000000\" points=\"744,-53 634,-53 634,0 744,0 744,-53\"/>\n<text text-anchor=\"middle\" x=\"689\" y=\"-37.8\" font-family=\"Times,serif\" font-size=\"14.00\" fill=\"#000000\">entropy = 0.605</text>\n<text text-anchor=\"middle\" x=\"689\" y=\"-22.8\" font-family=\"Times,serif\" font-size=\"14.00\" fill=\"#000000\">samples = 27</text>\n<text text-anchor=\"middle\" x=\"689\" y=\"-7.8\" font-family=\"Times,serif\" font-size=\"14.00\" fill=\"#000000\">value = [4, 23]</text>\n</g>\n<!-- 10&#45;&gt;12 -->\n<g id=\"edge12\" class=\"edge\">\n<title>10&#45;&gt;12</title>\n<path fill=\"none\" stroke=\"#000000\" d=\"M606.128,-88.9777C618.8813,-79.3629 632.7327,-68.9203 645.3947,-59.3743\"/>\n<polygon fill=\"#000000\" stroke=\"#000000\" points=\"647.6421,-62.0632 653.5202,-53.2485 643.4281,-56.4737 647.6421,-62.0632\"/>\n</g>\n</g>\n</svg>\n"
          },
          "metadata": {
            "tags": []
          },
          "execution_count": 17
        }
      ]
    },
    {
      "cell_type": "markdown",
      "metadata": {
        "colab_type": "text",
        "id": "4iz4meWDVmo2"
      },
      "source": [
        "#### Use the graph above to answer the questions below"
      ]
    },
    {
      "cell_type": "markdown",
      "metadata": {
        "colab_type": "text",
        "id": "u1yM9h10WUEv"
      },
      "source": [
        "Question 1: What do you think X[n] represents in the nodes from the graph?\n",
        "\n",
        "(YOUR ANSWER HERE)\n",
        "I think X[n] refers to the X_test, or any prediction data point with index n."
      ]
    },
    {
      "cell_type": "markdown",
      "metadata": {
        "colab_type": "text",
        "id": "rA7B0oTaWUIe"
      },
      "source": [
        "Question 2: What is the root feature? Does it make sense as the root feature?\n",
        " I don't know what the root feature is.\n",
        "(YOUR ANSWER HERE) "
      ]
    },
    {
      "cell_type": "markdown",
      "metadata": {
        "colab_type": "text",
        "id": "1t559pS3ZHES"
      },
      "source": [
        "Question 3: If you were to change the parameters to have a max_depth of 500 and min_samples_leaf of 1, what do you think the effect would be on the test accuracy? Training accuracy?\n",
        "\n",
        "I think the training accuracy would be 100% While the testing accuracy would be around 60%\n",
        "\n",
        "(YOUR ANSWER HERE)"
      ]
    },
    {
      "cell_type": "markdown",
      "metadata": {
        "colab_type": "text",
        "id": "7dnlqId2bIcR"
      },
      "source": [
        "**Test your guesses, create a model with max_depth=500 and min_samples_leaf=1, and predict values for the training and validation data**"
      ]
    },
    {
      "cell_type": "code",
      "metadata": {
        "colab_type": "code",
        "id": "hnUQKX9vl9Gy",
        "colab": {
          "base_uri": "https://localhost:8080/",
          "height": 52
        },
        "outputId": "3aa993f5-5c06-4d3a-be98-b1b43c255d1b"
      },
      "source": [
        "## YOUR CODE HERE\n",
        "decision_tree = DecisionTreeClassifier(criterion = \"entropy\", random_state = None,\n",
        "                              max_depth=500, min_samples_leaf=1)\n",
        "# training/fitting the model with training data\n",
        "decision_tree.fit(X_train, y_train)\n",
        "\n",
        "y_train_pred=decision_tree.predict(X_train)\n",
        "print(\"Training Accuracy is \", accuracy_score(y_train, y_train_pred)*100)\n",
        "y_val_pred=decision_tree.predict(X_val)\n",
        "print(\"Validation Accuracy is \", accuracy_score(y_val,y_val_pred)*100)"
      ],
      "execution_count": 19,
      "outputs": [
        {
          "output_type": "stream",
          "text": [
            "Training Accuracy is  100.0\n",
            "Validation Accuracy is  76.19047619047619\n"
          ],
          "name": "stdout"
        }
      ]
    },
    {
      "cell_type": "markdown",
      "metadata": {
        "colab_type": "text",
        "id": "40Psyt65pD8p"
      },
      "source": [
        "# Random Forest"
      ]
    },
    {
      "cell_type": "markdown",
      "metadata": {
        "colab_type": "text",
        "id": "mjLu1MLIpGNF"
      },
      "source": [
        "## Creating Model\n",
        "\n",
        "Create a model with sklearn's RandomForestClassifier and predict values on your validation set."
      ]
    },
    {
      "cell_type": "code",
      "metadata": {
        "colab_type": "code",
        "id": "TYwbpWxUfDIY",
        "colab": {
          "base_uri": "https://localhost:8080/",
          "height": 156
        },
        "outputId": "8b4280eb-8c64-4d09-ce56-1c97f58138cc"
      },
      "source": [
        "## YOUR CODE HERE\n",
        "# creating a model w sklearn's RandomForestClassifier\n",
        "random_forest = RandomForestClassifier(n_estimators=100)\n",
        "\n",
        "# training/fitting the model with training data\n",
        "random_forest.fit(X_train, y_train)\n"
      ],
      "execution_count": 20,
      "outputs": [
        {
          "output_type": "execute_result",
          "data": {
            "text/plain": [
              "RandomForestClassifier(bootstrap=True, ccp_alpha=0.0, class_weight=None,\n",
              "                       criterion='gini', max_depth=None, max_features='auto',\n",
              "                       max_leaf_nodes=None, max_samples=None,\n",
              "                       min_impurity_decrease=0.0, min_impurity_split=None,\n",
              "                       min_samples_leaf=1, min_samples_split=2,\n",
              "                       min_weight_fraction_leaf=0.0, n_estimators=100,\n",
              "                       n_jobs=None, oob_score=False, random_state=None,\n",
              "                       verbose=0, warm_start=False)"
            ]
          },
          "metadata": {
            "tags": []
          },
          "execution_count": 20
        }
      ]
    },
    {
      "cell_type": "markdown",
      "metadata": {
        "colab_type": "text",
        "id": "6Ys_J3O4pd0u"
      },
      "source": [
        "Print accuracy of training and validation data."
      ]
    },
    {
      "cell_type": "code",
      "metadata": {
        "colab_type": "code",
        "id": "aQdfjEWdfDOH",
        "colab": {
          "base_uri": "https://localhost:8080/",
          "height": 52
        },
        "outputId": "016f3d9c-7dab-4e86-cee7-12bc93c02e5b"
      },
      "source": [
        "## YOUR CODE HERE\n",
        "#printing accuracy of testing & training data\n",
        "y_train_pred=random_forest.predict(X_train)\n",
        "print(\"Training Accuracy is \", accuracy_score(y_train, y_train_pred)*100)\n",
        "y_val_pred=random_forest.predict(X_val)\n",
        "print(\"Validation Accuracy is \", accuracy_score(y_val,y_val_pred)*100)"
      ],
      "execution_count": 21,
      "outputs": [
        {
          "output_type": "stream",
          "text": [
            "Training Accuracy is  100.0\n",
            "Validation Accuracy is  82.53968253968253\n"
          ],
          "name": "stdout"
        }
      ]
    },
    {
      "cell_type": "markdown",
      "metadata": {
        "id": "Daa99vq9i7KP",
        "colab_type": "text"
      },
      "source": [
        "How did the accuracy compare to the decision tree's accuracy?\n",
        "\n",
        "(YOUR ANSWER HERE)\n",
        "The validation accuaracy is higher for the random forest model."
      ]
    },
    {
      "cell_type": "markdown",
      "metadata": {
        "colab_type": "text",
        "id": "jGlSHxuUqAnX"
      },
      "source": [
        "Print the 3 most important features (hint: sklearn has an attribute to help you find these)\n",
        "\n",
        "sklearn has the importance feature.\n",
        "The 3 most important features are plas, test, and age"
      ]
    },
    {
      "cell_type": "code",
      "metadata": {
        "colab_type": "code",
        "id": "5rVekWn0qw3r",
        "colab": {
          "base_uri": "https://localhost:8080/",
          "height": 404
        },
        "outputId": "362603e2-5857-437a-fcab-d8796a439c84"
      },
      "source": [
        "## YOUR CODE HERE\n",
        "from sklearn.datasets import make_regression\n",
        "from sklearn.tree import DecisionTreeRegressor\n",
        "from matplotlib import pyplot\n",
        "importance = random_forest.feature_importances_\n",
        "# summarize feature importance\n",
        "for i,v in enumerate(importance):\n",
        "\tprint('Feature: %0d, Score: %.5f' % (i,v))\n",
        "# plot feature importance\n",
        "pyplot.bar([x for x in range(len(importance))], importance)\n",
        "pyplot.show()"
      ],
      "execution_count": 22,
      "outputs": [
        {
          "output_type": "stream",
          "text": [
            "Feature: 0, Score: 0.08309\n",
            "Feature: 1, Score: 0.24720\n",
            "Feature: 2, Score: 0.07410\n",
            "Feature: 3, Score: 0.09350\n",
            "Feature: 4, Score: 0.14942\n",
            "Feature: 5, Score: 0.10912\n",
            "Feature: 6, Score: 0.11635\n",
            "Feature: 7, Score: 0.12723\n"
          ],
          "name": "stdout"
        },
        {
          "output_type": "display_data",
          "data": {
            "image/png": "[encoded data removed]",
            "text/plain": [
              "<Figure size 432x288 with 1 Axes>"
            ]
          },
          "metadata": {
            "tags": [],
            "needs_background": "light"
          }
        }
      ]
    },
    {
      "cell_type": "markdown",
      "metadata": {
        "colab_type": "text",
        "id": "lynu8pLDtd0S"
      },
      "source": [
        "Find the accuracy for random forests with 1 to 100 trees, counting by 5. Print and then plot these accuracies."
      ]
    },
    {
      "cell_type": "code",
      "metadata": {
        "colab_type": "code",
        "id": "e2hG7npcuM7f",
        "colab": {
          "base_uri": "https://localhost:8080/",
          "height": 285
        },
        "outputId": "1c098086-83f5-47c0-9e3f-7beee9f00e11"
      },
      "source": [
        "## YOUR CODE HERE\n",
        "# creating a model w sklearn's RandomForestClassifier\n",
        "accuracies = []\n",
        "i = 1\n",
        "while i <= 100:\n",
        "  random_forest = RandomForestClassifier(n_estimators=i)\n",
        "  random_forest.fit(X_train, y_train)\n",
        "  y_val_pred=random_forest.predict(X_val)\n",
        "  accuracies.append(accuracy_score(y_val, y_val_pred)*100)\n",
        "  i += 5\n",
        "\n",
        "import matplotlib.pyplot as plt\n",
        "x = np.linspace(1, 100, num=20)\n",
        "y = np.asarray(accuracies, dtype=np.float32)\n",
        "\n",
        "x = x.reshape(-1, 1)\n",
        "y = y.reshape(-1,1)\n",
        "# Plot using matplotlib's object-oriented API:\n",
        "# we figure and axis object: `fig` and `ax`\n",
        "fig, ax = plt.subplots()\n",
        "# we then use these objects to draw-on and manipulate our plot\n",
        "ax.plot(x, y)\n",
        "\n",
        "# Plot using matplotlib's functional API:\n",
        "# a single function call produces a plot; convenient but less flexible\n",
        "plt.plot(x, y)\n",
        "\n",
        "#Can use loop to determine the highest value.\n",
        "\n"
      ],
      "execution_count": 37,
      "outputs": [
        {
          "output_type": "execute_result",
          "data": {
            "text/plain": [
              "[<matplotlib.lines.Line2D at 0x7fe1a7578f60>]"
            ]
          },
          "metadata": {
            "tags": []
          },
          "execution_count": 37
        },
        {
          "output_type": "display_data",
          "data": {
            "image/png": "[encoded data removed]",
            "text/plain": [
              "<Figure size 432x288 with 1 Axes>"
            ]
          },
          "metadata": {
            "tags": [],
            "needs_background": "light"
          }
        }
      ]
    },
    {
      "cell_type": "markdown",
      "metadata": {
        "id": "hIHydMbqi7Ke",
        "colab_type": "text"
      },
      "source": [
        "Plot the roc_curve using predict_proba a function for our random forest model, and metrics.roc_curve\n",
        "\n",
        "It might help to google these functions and look at sklearn's documentation."
      ]
    },
    {
      "cell_type": "code",
      "metadata": {
        "id": "pj8HW7Eli7Kf",
        "colab_type": "code",
        "colab": {
          "base_uri": "https://localhost:8080/",
          "height": 491
        },
        "outputId": "77a4e76b-afc4-4364-ef86-3ecfde9a703f"
      },
      "source": [
        "## YOUR CODE HERE\n",
        "random_forest = RandomForestClassifier(n_estimators=100)\n",
        "\n",
        "# training/fitting the model with training data\n",
        "random_forest.fit(X_train, y_train)\n",
        "\n",
        "#Have to find probability to be able to graph roc curve.\n",
        "labels = [0,1]\n",
        "y_val_prob = random_forest.predict_proba(X_val)\n",
        "\n",
        "# Output predicted and true values for the first validation point\n",
        "print('Probabilities:\\n',y_val_prob[0])\n",
        "print('\\nTrue Value:\\n',y_val.values[0])\n",
        "# Calculate the FPR and TPR at varying thresholds (assume label 1 is the \"postive\" class)\n",
        "fpr, tpr, thresholds = metrics.roc_curve(y_val, y_val_prob[:,1])\n",
        "\n",
        "# Calculate the area under the ROC curve\n",
        "roc_auc = metrics.auc(fpr, tpr)\n",
        "\n",
        "plt.figure(figsize=(6,6))\n",
        "lw = 2\n",
        "plt.plot(fpr, tpr, color='darkorange',\n",
        "         lw=lw, label='ROC curve (area = %0.2f)' % roc_auc)\n",
        "plt.plot([0, 1], [0, 1], color='navy', lw=lw, linestyle='--')\n",
        "plt.xlim([0.0, 1.0])\n",
        "plt.ylim([0.0, 1.0])\n",
        "plt.xlabel('False Positive Rate')\n",
        "plt.ylabel('True Positive Rate')\n",
        "plt.title('Receiver operating characteristic')\n",
        "plt.legend(loc=\"lower right\")\n",
        "plt.show()\n",
        "\n"
      ],
      "execution_count": 41,
      "outputs": [
        {
          "output_type": "stream",
          "text": [
            "Probabilities:\n",
            " [0.43 0.57]\n",
            "\n",
            "True Value:\n",
            " 1\n"
          ],
          "name": "stdout"
        },
        {
          "output_type": "display_data",
          "data": {
            "image/png": "[encoded data removed]",
            "text/plain": [
              "<Figure size 432x432 with 1 Axes>"
            ]
          },
          "metadata": {
            "tags": [],
            "needs_background": "light"
          }
        }
      ]
    },
    {
      "cell_type": "code",
      "metadata": {
        "id": "XrRQiQt-KO7S",
        "colab_type": "code",
        "colab": {}
      },
      "source": [
        "#Random forrest several copy of trees, where each nodes have different weights, returns the average accuracy of a tree of all trees because randomness in a single tree may result in accurate nodes, so different weights many trees prevents overfitting"
      ],
      "execution_count": null,
      "outputs": []
    }
  ]
}